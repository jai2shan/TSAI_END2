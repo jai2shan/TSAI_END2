{
  "nbformat": 4,
  "nbformat_minor": 0,
  "metadata": {
    "colab": {
      "name": "Session 3 - Pytorch.ipynb",
      "provenance": [],
      "include_colab_link": true
    },
    "kernelspec": {
      "name": "python3",
      "display_name": "Python 3"
    },
    "language_info": {
      "name": "python"
    },
    "accelerator": "GPU"
  },
  "cells": [
    {
      "cell_type": "markdown",
      "metadata": {
        "id": "view-in-github",
        "colab_type": "text"
      },
      "source": [
        "<a href=\"https://colab.research.google.com/github/jai2shan/TSAI_END2/blob/main/Session%203/Session_3_Pytorch%2081%20accuracy.ipynb\" target=\"_parent\"><img src=\"https://colab.research.google.com/assets/colab-badge.svg\" alt=\"Open In Colab\"/></a>"
      ]
    },
    {
      "cell_type": "code",
      "metadata": {
        "colab": {
          "base_uri": "https://localhost:8080/"
        },
        "id": "PQNZgS2HqVgu",
        "outputId": "a4ec7221-9287-4639-f2e9-2016ef475286"
      },
      "source": [
        "from torchvision import datasets\n",
        "datasets.MNIST('data', download=True)"
      ],
      "execution_count": 21,
      "outputs": [
        {
          "output_type": "execute_result",
          "data": {
            "text/plain": [
              "Dataset MNIST\n",
              "    Number of datapoints: 60000\n",
              "    Root location: data\n",
              "    Split: Train"
            ]
          },
          "metadata": {
            "tags": []
          },
          "execution_count": 21
        }
      ]
    },
    {
      "cell_type": "code",
      "metadata": {
        "id": "wp73hOBzqmVf"
      },
      "source": [
        "\n",
        "# import torch\n",
        "# train = torch.load(\"/content/data/MNIST/processed/training.pt\")\n",
        "# randInt = torch.randint(0,9,(60000,))\n",
        "\n",
        "# import torch\n",
        "# from torch.utils.data import DataLoader\n",
        "\n",
        "# class CustomLoader_MNIST(DataLoader):\n",
        "#     def __init__(self,pt_path):\n",
        "#         self.path = pt_path\n",
        "#         self.data = torch.load(self.path)\n",
        "        \n",
        "\n",
        "#     def __getitem__(self, index):\n",
        "#       print(self.data)\n",
        "#       r = self.data.iloc[index]\n",
        "#       randInt = torch.randint(0,9,(r.shape[0],))\n",
        "\n",
        "#       image, label = r\n",
        "#       output = torch.cat((label.reshape(len(label),-1),\n",
        "#                           (label + randInt).reshape(len(label),-1)),\n",
        "#                          dim = 1)\n",
        "#       x = torch.empty(size=(len(randInt), 28,28))\n",
        "#       for i in range(len(randInt)):\n",
        "#           x[i] = randInt[i]*torch.ones(28,28)\n",
        "          \n",
        "#       input = torch.cat((image, x),dim = 1)\n",
        "#       return output, input\n",
        "\n",
        "#     def __len__(self):\n",
        "#       return len(self.data)\n",
        "\n",
        "# train_data = CustomLoader_MNIST(\"/content/data/MNIST/processed/training.pt\")\n",
        "# test_data = CustomLoader_MNIST(\"/content/data/MNIST/processed/test.pt\")"
      ],
      "execution_count": 22,
      "outputs": []
    },
    {
      "cell_type": "code",
      "metadata": {
        "id": "dSFcGVusACB7"
      },
      "source": [
        "import torch\n",
        "train = torch.load(\"/content/data/MNIST/processed/training.pt\")\n",
        "randInt = torch.randint(0,9,(60000,))\n",
        "\n",
        "import torch\n",
        "from torch.utils.data import DataLoader\n",
        "\n",
        "class CustomLoader_MNIST(DataLoader):\n",
        "    def __init__(self,pt_path):\n",
        "        self.path = pt_path\n",
        "        self.data = torch.load(self.path)\n",
        "        \n",
        "\n",
        "    def __getitem__(self, idx):\n",
        "      if torch.is_tensor(idx):\n",
        "        idx = idx.tolist()\n",
        "\n",
        "      image, label = self.data[0][idx], self.data[1][idx] \n",
        "\n",
        "      randInt = torch.randint(0,9,(1,))\n",
        "      x1, x2, y1, y2 = image.reshape(1,28,28), randInt, label, label + randInt[0]\n",
        "\n",
        "      return x1, x2, y1, y2\n",
        "\n",
        "    def __len__(self):\n",
        "      return len(self.data[0])\n",
        "\n",
        "train_data = CustomLoader_MNIST(\"/content/data/MNIST/processed/training.pt\")\n",
        "test_data = CustomLoader_MNIST(\"/content/data/MNIST/processed/test.pt\")"
      ],
      "execution_count": 23,
      "outputs": []
    },
    {
      "cell_type": "code",
      "metadata": {
        "id": "ujUQfPZvAIXC"
      },
      "source": [
        ""
      ],
      "execution_count": 23,
      "outputs": []
    },
    {
      "cell_type": "code",
      "metadata": {
        "id": "tXnBR2bm5fwH"
      },
      "source": [
        "torch.manual_seed(1)\n",
        "batch_size = 512\n",
        "use_cuda = torch.cuda.is_available()\n",
        "\n",
        "kwargs = {'num_workers': 1, 'pin_memory': True} if use_cuda else {}\n",
        "train_loader = torch.utils.data.DataLoader(train_data, batch_size=batch_size, shuffle=True, **kwargs)\n",
        "test_loader = torch.utils.data.DataLoader(test_data, batch_size=batch_size, shuffle=True, **kwargs)"
      ],
      "execution_count": 24,
      "outputs": []
    },
    {
      "cell_type": "code",
      "metadata": {
        "id": "5OpyMhcyIzpH",
        "colab": {
          "base_uri": "https://localhost:8080/"
        },
        "outputId": "c09dc80d-b129-4b51-e2b3-b6f7d495bb34"
      },
      "source": [
        "from tqdm import tqdm\n",
        "pbar = tqdm(train_loader)\n",
        "device = torch.device(\"cuda\" if use_cuda else \"cpu\")\n",
        "for batch_idx, (x1, x2, y1, y2) in enumerate(pbar):\n",
        "    x1, x2, y1, y2 = x1.to(device), x2.to(device), y1.to(device), y2.to(device)\n",
        "    pbar.set_description(desc= f'batch_id={batch_idx}')"
      ],
      "execution_count": 25,
      "outputs": [
        {
          "output_type": "stream",
          "text": [
            "batch_id=117: 100%|██████████| 118/118 [00:01<00:00, 65.50it/s]\n"
          ],
          "name": "stderr"
        }
      ]
    },
    {
      "cell_type": "code",
      "metadata": {
        "id": "ea6wQjL5IIue"
      },
      "source": [
        "import torch.nn.functional as F\n",
        "import torch.nn as nn\n",
        "dropout_value = 0.1\n",
        "\n",
        "class Net(nn.Module):\n",
        "    def __init__(self):\n",
        "        super(Net, self).__init__()\n",
        "        # Input Block\n",
        "        self.convblock1 = nn.Sequential(\n",
        "            nn.Conv2d(in_channels=1, out_channels=8, kernel_size=(3, 3), padding=0, bias=False),\n",
        "            nn.ReLU(),\n",
        "            nn.BatchNorm2d(8),\n",
        "            nn.Dropout(dropout_value)\n",
        "        ) # output_size = 26\n",
        "\n",
        "        # CONVOLUTION BLOCK 1\n",
        "        self.convblock2 = nn.Sequential(\n",
        "            nn.Conv2d(in_channels=8, out_channels=16, kernel_size=(3, 3), padding=0, bias=False),\n",
        "            nn.ReLU(),\n",
        "            nn.BatchNorm2d(16),\n",
        "            nn.Dropout(dropout_value)\n",
        "        ) # output_size = 24\n",
        "\n",
        "        # TRANSITION BLOCK 1\n",
        "        self.convblock3 = nn.Sequential(\n",
        "            nn.Conv2d(in_channels=16, out_channels=8, kernel_size=(1, 1), padding=0, bias=False),\n",
        "        ) # output_size = 24\n",
        "        self.pool1 = nn.MaxPool2d(2, 2) # output_size = 12\n",
        "\n",
        "        # CONVOLUTION BLOCK 2\n",
        "        self.convblock4 = nn.Sequential(\n",
        "            nn.Conv2d(in_channels=8, out_channels=16, kernel_size=(3, 3), padding=0, bias=False),\n",
        "            nn.ReLU(),            \n",
        "            nn.BatchNorm2d(16),\n",
        "            nn.Dropout(dropout_value)\n",
        "        ) # output_size = 10\n",
        "        self.convblock5 = nn.Sequential(\n",
        "            nn.Conv2d(in_channels=16, out_channels=16, kernel_size=(3, 3), padding=0, bias=False),\n",
        "            nn.ReLU(),            \n",
        "            nn.BatchNorm2d(16),\n",
        "            nn.Dropout(dropout_value)\n",
        "        ) # output_size = 8\n",
        "        self.convblock6 = nn.Sequential(\n",
        "            nn.Conv2d(in_channels=16, out_channels=16, kernel_size=(3, 3), padding=0, bias=False),\n",
        "            nn.ReLU(),            \n",
        "            nn.BatchNorm2d(16),\n",
        "            nn.Dropout(dropout_value)\n",
        "        ) # output_size = 6\n",
        "        self.convblock7 = nn.Sequential(\n",
        "            nn.Conv2d(in_channels=16, out_channels=16, kernel_size=(3, 3), padding=1, bias=False),\n",
        "            nn.ReLU(),            \n",
        "            nn.BatchNorm2d(16),\n",
        "            nn.Dropout(dropout_value)\n",
        "        ) # output_size = 6\n",
        "        \n",
        "        # OUTPUT BLOCK\n",
        "        self.gap = nn.Sequential(\n",
        "            nn.AvgPool2d(kernel_size=6)\n",
        "        ) # output_size = 1\n",
        "\n",
        "        self.convblock8 = nn.Sequential(\n",
        "            nn.Conv2d(in_channels=16, out_channels=10, kernel_size=(1, 1), padding=0, bias=False),\n",
        "            # nn.BatchNorm2d(10),\n",
        "            # nn.ReLU(),\n",
        "            # nn.Dropout(dropout_value)\n",
        "        ) \n",
        "\n",
        "        self.dropout = nn.Dropout(dropout_value)\n",
        "        # self.relu = nn.ReLU()\n",
        "        self.ln1 = nn.Linear(11,19)\n",
        "\n",
        "    def forward(self, img, rnum):        \n",
        "        img = self.convblock1(img)\n",
        "        img = self.convblock2(img)\n",
        "        img = self.convblock3(img)\n",
        "        img = self.pool1(img)\n",
        "        img = self.convblock4(img)\n",
        "        img = self.convblock5(img)\n",
        "        img = self.convblock6(img)\n",
        "        img = self.convblock7(img)\n",
        "        img = self.gap(img)        \n",
        "        img = self.convblock8(img)\n",
        "        \n",
        "        img = img.view(-1, 10)\n",
        "        rnum = torch.cat((img, rnum), dim=1)\n",
        "        rnum = self.ln1(rnum)\n",
        "\n",
        "        img = F.log_softmax(img, dim=-1)\n",
        "        rnum = F.log_softmax(rnum, dim=-1)\n",
        "        return img, rnum"
      ],
      "execution_count": 26,
      "outputs": []
    },
    {
      "cell_type": "code",
      "metadata": {
        "id": "SdwQvMu7KXGC",
        "colab": {
          "base_uri": "https://localhost:8080/"
        },
        "outputId": "9e9d7d55-874f-4bff-8585-826d1fa69477"
      },
      "source": [
        "from torchsummary import summary\n",
        "use_cuda = torch.cuda.is_available()\n",
        "device = torch.device(\"cuda\" if use_cuda else \"cpu\")\n",
        "print(device)\n",
        "model = Net().to(device)\n",
        "# summary(model, input_size=((1, 28, 28),1))"
      ],
      "execution_count": 27,
      "outputs": [
        {
          "output_type": "stream",
          "text": [
            "cuda\n"
          ],
          "name": "stdout"
        }
      ]
    },
    {
      "cell_type": "code",
      "metadata": {
        "id": "EEm0ZH3wKz08"
      },
      "source": [
        "from tqdm import tqdm\n",
        "\n",
        "train_losses = []\n",
        "test_losses =  []\n",
        "train_acc =  {'Image': [], 'RandomNumber': []}\n",
        "test_acc = {'Image': [], 'RandomNumber': []}\n",
        "\n",
        "\n",
        "def train(model, device, train_loader, optimizer, epoch,loss1_,loss2_):\n",
        "\n",
        "  model.train()\n",
        "  pbar = tqdm(train_loader)\n",
        "  correct1 = 0\n",
        "  processed = 0\n",
        "  correct2 = 0\n",
        "\n",
        "  for batch_idx, (x1, x2, y1, y2) in enumerate(pbar):\n",
        "    # Data\n",
        "    x1, x2, y1, y2 = x1.float().to(device), x2.float().to(device), y1.to(device), y2.to(device)\n",
        "    # Init\n",
        "    \n",
        "    optimizer.zero_grad()\n",
        "    # In PyTorch, we need to set the gradients to zero before starting to do backpropragation because PyTorch accumulates the gradients on subsequent backward passes. \n",
        "    # Because of this, when you start your training loop, ideally you should zero out the gradients so that you do the parameter update correctly.\n",
        "\n",
        "    # Predict\n",
        "\n",
        "    y1_pred, y2_pred = model(x1, x2)\n",
        "\n",
        "    # Calculate loss\n",
        "    loss1 = F.nll_loss(y1_pred, y1)\n",
        "    loss2 = F.nll_loss(y2_pred, y2)\n",
        "\n",
        "    # Cross Entropy Loss\n",
        "    # loss1 = loss1_(y1_pred, y1)\n",
        "    # loss2 = loss2_(y2_pred, y2)\n",
        "\n",
        "    loss =  torch.add(loss1, loss2*2)\n",
        "    train_losses.append(loss)\n",
        "\n",
        "    # Backpropagation\n",
        "    loss.backward()\n",
        "    optimizer.step()\n",
        "\n",
        "    # Update pbar-tqdm\n",
        "    \n",
        "    pred1 = y1_pred.argmax(dim=1, keepdim=True)\n",
        "    pred2 = y2_pred.argmax(dim=1, keepdim=True)\n",
        "    \n",
        "    # get the index of the max log-probability\n",
        "    correct1 += pred1.eq(y1.view_as(pred1)).sum().item()\n",
        "    correct2 += pred2.eq(y2.view_as(pred2)).sum().item()\n",
        "    processed += len(x1)\n",
        "\n",
        "    pbar.set_description(desc= f'Loss={loss.item()} Batch_id={batch_idx} Accuracy_digit={100*correct1/processed:0.2f} Accuracy_Rnum={100*correct2/processed:0.2f}')\n",
        "    train_acc['Image'].append(100*correct1/processed)\n",
        "    train_acc['RandomNumber'].append(100*correct2/processed)\n",
        "\n",
        "def test(model, device, test_loader):\n",
        "    model.eval()\n",
        "    correct1 = 0\n",
        "    correct2 = 0\n",
        "    with torch.no_grad():\n",
        "        for x1, x2, y1, y2 in test_loader:\n",
        "            x1, x2, y1, y2 = x1.float().to(device), x2.float().to(device), y1.to(device), y2.to(device)\n",
        "            y1_pred, y2_pred = model(x1, x2)\n",
        "            \n",
        "            pred1 = y1_pred.argmax(dim=1, keepdim=True)\n",
        "            pred2 = y2_pred.argmax(dim=1, keepdim=True)\n",
        "            correct1 += pred1.eq(y1.view_as(pred1)).sum().item()\n",
        "            correct2 += pred2.eq(y2.view_as(pred2)).sum().item()\n",
        "\n",
        "    print('Test set: Accuracy_digit={} Accuracy_Rnum={}'.format(100*correct1/len(test_loader.dataset),100*correct2/len(test_loader.dataset)))\n",
        "    test_acc['Image'].append(100*correct1/len(test_loader.dataset))\n",
        "    test_acc['RandomNumber'].append(100*correct2/len(test_loader.dataset))"
      ],
      "execution_count": 28,
      "outputs": []
    },
    {
      "cell_type": "code",
      "metadata": {
        "id": "XfLy2ms8Uby2",
        "colab": {
          "base_uri": "https://localhost:8080/"
        },
        "outputId": "6fe79abd-9d02-4731-e54c-7883846dce33"
      },
      "source": [
        "from torch.optim.lr_scheduler import StepLR\n",
        "import torch.optim as optim\n",
        "\n",
        "model =  Net().to(device)\n",
        "optimizer = optim.SGD(model.parameters(), lr=0.01,momentum=0.9)\n",
        "\n",
        "loss1_ = nn.CrossEntropyLoss()\n",
        "loss2_ = nn.CrossEntropyLoss()\n",
        "\n",
        "EPOCHS = 50\n",
        "for epoch in range(EPOCHS):\n",
        "    print(\"EPOCH:\", epoch)\n",
        "    train(model, device, train_loader, optimizer, epoch,loss1_,loss2_)\n",
        "    test(model, device, test_loader)"
      ],
      "execution_count": 29,
      "outputs": [
        {
          "output_type": "stream",
          "text": [
            "\r  0%|          | 0/118 [00:00<?, ?it/s]"
          ],
          "name": "stderr"
        },
        {
          "output_type": "stream",
          "text": [
            "EPOCH: 0\n"
          ],
          "name": "stdout"
        },
        {
          "output_type": "stream",
          "text": [
            "Loss=4.701635837554932 Batch_id=117 Accuracy_digit=59.61 Accuracy_Rnum=13.89: 100%|██████████| 118/118 [00:02<00:00, 44.73it/s]\n",
            "  0%|          | 0/118 [00:00<?, ?it/s]"
          ],
          "name": "stderr"
        },
        {
          "output_type": "stream",
          "text": [
            "Test set: Accuracy_digit=89.59 Accuracy_Rnum=20.42\n",
            "EPOCH: 1\n"
          ],
          "name": "stdout"
        },
        {
          "output_type": "stream",
          "text": [
            "Loss=3.848229169845581 Batch_id=117 Accuracy_digit=93.95 Accuracy_Rnum=26.22: 100%|██████████| 118/118 [00:02<00:00, 45.80it/s]\n",
            "  0%|          | 0/118 [00:00<?, ?it/s]"
          ],
          "name": "stderr"
        },
        {
          "output_type": "stream",
          "text": [
            "Test set: Accuracy_digit=96.71 Accuracy_Rnum=29.03\n",
            "EPOCH: 2\n"
          ],
          "name": "stdout"
        },
        {
          "output_type": "stream",
          "text": [
            "Loss=3.643430709838867 Batch_id=117 Accuracy_digit=96.26 Accuracy_Rnum=32.90: 100%|██████████| 118/118 [00:02<00:00, 46.86it/s]\n",
            "  0%|          | 0/118 [00:00<?, ?it/s]"
          ],
          "name": "stderr"
        },
        {
          "output_type": "stream",
          "text": [
            "Test set: Accuracy_digit=97.6 Accuracy_Rnum=32.9\n",
            "EPOCH: 3\n"
          ],
          "name": "stdout"
        },
        {
          "output_type": "stream",
          "text": [
            "Loss=3.0862464904785156 Batch_id=117 Accuracy_digit=97.05 Accuracy_Rnum=38.09: 100%|██████████| 118/118 [00:02<00:00, 46.16it/s]\n",
            "  0%|          | 0/118 [00:00<?, ?it/s]"
          ],
          "name": "stderr"
        },
        {
          "output_type": "stream",
          "text": [
            "Test set: Accuracy_digit=97.22 Accuracy_Rnum=38.74\n",
            "EPOCH: 4\n"
          ],
          "name": "stdout"
        },
        {
          "output_type": "stream",
          "text": [
            "Loss=2.789008855819702 Batch_id=117 Accuracy_digit=97.32 Accuracy_Rnum=41.19: 100%|██████████| 118/118 [00:02<00:00, 44.94it/s]\n",
            "  0%|          | 0/118 [00:00<?, ?it/s]"
          ],
          "name": "stderr"
        },
        {
          "output_type": "stream",
          "text": [
            "Test set: Accuracy_digit=97.25 Accuracy_Rnum=40.66\n",
            "EPOCH: 5\n"
          ],
          "name": "stdout"
        },
        {
          "output_type": "stream",
          "text": [
            "Loss=3.040469169616699 Batch_id=117 Accuracy_digit=97.63 Accuracy_Rnum=43.70: 100%|██████████| 118/118 [00:02<00:00, 44.44it/s]\n",
            "  0%|          | 0/118 [00:00<?, ?it/s]"
          ],
          "name": "stderr"
        },
        {
          "output_type": "stream",
          "text": [
            "Test set: Accuracy_digit=98.08 Accuracy_Rnum=47.7\n",
            "EPOCH: 6\n"
          ],
          "name": "stdout"
        },
        {
          "output_type": "stream",
          "text": [
            "Loss=3.067349910736084 Batch_id=117 Accuracy_digit=97.81 Accuracy_Rnum=46.76: 100%|██████████| 118/118 [00:02<00:00, 45.44it/s]\n",
            "  0%|          | 0/118 [00:00<?, ?it/s]"
          ],
          "name": "stderr"
        },
        {
          "output_type": "stream",
          "text": [
            "Test set: Accuracy_digit=98.44 Accuracy_Rnum=48.85\n",
            "EPOCH: 7\n"
          ],
          "name": "stdout"
        },
        {
          "output_type": "stream",
          "text": [
            "Loss=2.8384110927581787 Batch_id=117 Accuracy_digit=97.85 Accuracy_Rnum=48.00: 100%|██████████| 118/118 [00:02<00:00, 46.51it/s]\n",
            "  0%|          | 0/118 [00:00<?, ?it/s]"
          ],
          "name": "stderr"
        },
        {
          "output_type": "stream",
          "text": [
            "Test set: Accuracy_digit=98.86 Accuracy_Rnum=54.51\n",
            "EPOCH: 8\n"
          ],
          "name": "stdout"
        },
        {
          "output_type": "stream",
          "text": [
            "Loss=2.9048147201538086 Batch_id=117 Accuracy_digit=98.05 Accuracy_Rnum=50.08: 100%|██████████| 118/118 [00:02<00:00, 45.35it/s]\n",
            "  0%|          | 0/118 [00:00<?, ?it/s]"
          ],
          "name": "stderr"
        },
        {
          "output_type": "stream",
          "text": [
            "Test set: Accuracy_digit=98.75 Accuracy_Rnum=51.08\n",
            "EPOCH: 9\n"
          ],
          "name": "stdout"
        },
        {
          "output_type": "stream",
          "text": [
            "Loss=2.6702141761779785 Batch_id=117 Accuracy_digit=98.14 Accuracy_Rnum=50.47: 100%|██████████| 118/118 [00:02<00:00, 46.74it/s]\n",
            "  0%|          | 0/118 [00:00<?, ?it/s]"
          ],
          "name": "stderr"
        },
        {
          "output_type": "stream",
          "text": [
            "Test set: Accuracy_digit=98.82 Accuracy_Rnum=49.41\n",
            "EPOCH: 10\n"
          ],
          "name": "stdout"
        },
        {
          "output_type": "stream",
          "text": [
            "Loss=2.2669835090637207 Batch_id=117 Accuracy_digit=98.21 Accuracy_Rnum=52.07: 100%|██████████| 118/118 [00:02<00:00, 46.73it/s]\n",
            "  0%|          | 0/118 [00:00<?, ?it/s]"
          ],
          "name": "stderr"
        },
        {
          "output_type": "stream",
          "text": [
            "Test set: Accuracy_digit=98.8 Accuracy_Rnum=51.75\n",
            "EPOCH: 11\n"
          ],
          "name": "stdout"
        },
        {
          "output_type": "stream",
          "text": [
            "Loss=2.717595100402832 Batch_id=117 Accuracy_digit=98.28 Accuracy_Rnum=52.98: 100%|██████████| 118/118 [00:02<00:00, 45.72it/s]\n",
            "  0%|          | 0/118 [00:00<?, ?it/s]"
          ],
          "name": "stderr"
        },
        {
          "output_type": "stream",
          "text": [
            "Test set: Accuracy_digit=98.52 Accuracy_Rnum=53.81\n",
            "EPOCH: 12\n"
          ],
          "name": "stdout"
        },
        {
          "output_type": "stream",
          "text": [
            "Loss=2.7420196533203125 Batch_id=117 Accuracy_digit=98.27 Accuracy_Rnum=53.74: 100%|██████████| 118/118 [00:02<00:00, 45.87it/s]\n",
            "  0%|          | 0/118 [00:00<?, ?it/s]"
          ],
          "name": "stderr"
        },
        {
          "output_type": "stream",
          "text": [
            "Test set: Accuracy_digit=98.68 Accuracy_Rnum=57.01\n",
            "EPOCH: 13\n"
          ],
          "name": "stdout"
        },
        {
          "output_type": "stream",
          "text": [
            "Loss=2.456355571746826 Batch_id=117 Accuracy_digit=98.31 Accuracy_Rnum=55.38: 100%|██████████| 118/118 [00:02<00:00, 45.31it/s]\n",
            "  0%|          | 0/118 [00:00<?, ?it/s]"
          ],
          "name": "stderr"
        },
        {
          "output_type": "stream",
          "text": [
            "Test set: Accuracy_digit=98.8 Accuracy_Rnum=57.34\n",
            "EPOCH: 14\n"
          ],
          "name": "stdout"
        },
        {
          "output_type": "stream",
          "text": [
            "Loss=2.573946952819824 Batch_id=117 Accuracy_digit=98.40 Accuracy_Rnum=56.65: 100%|██████████| 118/118 [00:02<00:00, 45.49it/s]\n",
            "  0%|          | 0/118 [00:00<?, ?it/s]"
          ],
          "name": "stderr"
        },
        {
          "output_type": "stream",
          "text": [
            "Test set: Accuracy_digit=98.8 Accuracy_Rnum=60.36\n",
            "EPOCH: 15\n"
          ],
          "name": "stdout"
        },
        {
          "output_type": "stream",
          "text": [
            "Loss=2.6238691806793213 Batch_id=117 Accuracy_digit=98.35 Accuracy_Rnum=57.05: 100%|██████████| 118/118 [00:02<00:00, 46.42it/s]\n",
            "  0%|          | 0/118 [00:00<?, ?it/s]"
          ],
          "name": "stderr"
        },
        {
          "output_type": "stream",
          "text": [
            "Test set: Accuracy_digit=98.92 Accuracy_Rnum=62.33\n",
            "EPOCH: 16\n"
          ],
          "name": "stdout"
        },
        {
          "output_type": "stream",
          "text": [
            "Loss=2.427891492843628 Batch_id=117 Accuracy_digit=98.51 Accuracy_Rnum=58.38: 100%|██████████| 118/118 [00:02<00:00, 46.11it/s]\n",
            "  0%|          | 0/118 [00:00<?, ?it/s]"
          ],
          "name": "stderr"
        },
        {
          "output_type": "stream",
          "text": [
            "Test set: Accuracy_digit=98.9 Accuracy_Rnum=58.65\n",
            "EPOCH: 17\n"
          ],
          "name": "stdout"
        },
        {
          "output_type": "stream",
          "text": [
            "Loss=2.5332298278808594 Batch_id=117 Accuracy_digit=98.47 Accuracy_Rnum=58.41: 100%|██████████| 118/118 [00:02<00:00, 46.14it/s]\n",
            "  0%|          | 0/118 [00:00<?, ?it/s]"
          ],
          "name": "stderr"
        },
        {
          "output_type": "stream",
          "text": [
            "Test set: Accuracy_digit=98.73 Accuracy_Rnum=61.48\n",
            "EPOCH: 18\n"
          ],
          "name": "stdout"
        },
        {
          "output_type": "stream",
          "text": [
            "Loss=2.227017641067505 Batch_id=117 Accuracy_digit=98.51 Accuracy_Rnum=59.13: 100%|██████████| 118/118 [00:02<00:00, 44.15it/s]\n",
            "  0%|          | 0/118 [00:00<?, ?it/s]"
          ],
          "name": "stderr"
        },
        {
          "output_type": "stream",
          "text": [
            "Test set: Accuracy_digit=98.8 Accuracy_Rnum=62.2\n",
            "EPOCH: 19\n"
          ],
          "name": "stdout"
        },
        {
          "output_type": "stream",
          "text": [
            "Loss=2.356217861175537 Batch_id=117 Accuracy_digit=98.51 Accuracy_Rnum=60.80: 100%|██████████| 118/118 [00:02<00:00, 44.77it/s]\n",
            "  0%|          | 0/118 [00:00<?, ?it/s]"
          ],
          "name": "stderr"
        },
        {
          "output_type": "stream",
          "text": [
            "Test set: Accuracy_digit=98.97 Accuracy_Rnum=62.57\n",
            "EPOCH: 20\n"
          ],
          "name": "stdout"
        },
        {
          "output_type": "stream",
          "text": [
            "Loss=2.4479596614837646 Batch_id=117 Accuracy_digit=98.59 Accuracy_Rnum=60.77: 100%|██████████| 118/118 [00:02<00:00, 44.07it/s]\n",
            "  0%|          | 0/118 [00:00<?, ?it/s]"
          ],
          "name": "stderr"
        },
        {
          "output_type": "stream",
          "text": [
            "Test set: Accuracy_digit=98.98 Accuracy_Rnum=66.49\n",
            "EPOCH: 21\n"
          ],
          "name": "stdout"
        },
        {
          "output_type": "stream",
          "text": [
            "Loss=2.3362834453582764 Batch_id=117 Accuracy_digit=98.63 Accuracy_Rnum=61.49: 100%|██████████| 118/118 [00:02<00:00, 46.87it/s]\n",
            "  0%|          | 0/118 [00:00<?, ?it/s]"
          ],
          "name": "stderr"
        },
        {
          "output_type": "stream",
          "text": [
            "Test set: Accuracy_digit=98.74 Accuracy_Rnum=61.28\n",
            "EPOCH: 22\n"
          ],
          "name": "stdout"
        },
        {
          "output_type": "stream",
          "text": [
            "Loss=2.2856037616729736 Batch_id=117 Accuracy_digit=98.61 Accuracy_Rnum=62.22: 100%|██████████| 118/118 [00:02<00:00, 47.63it/s]\n",
            "  0%|          | 0/118 [00:00<?, ?it/s]"
          ],
          "name": "stderr"
        },
        {
          "output_type": "stream",
          "text": [
            "Test set: Accuracy_digit=98.91 Accuracy_Rnum=63.98\n",
            "EPOCH: 23\n"
          ],
          "name": "stdout"
        },
        {
          "output_type": "stream",
          "text": [
            "Loss=2.0603573322296143 Batch_id=117 Accuracy_digit=98.63 Accuracy_Rnum=62.20: 100%|██████████| 118/118 [00:02<00:00, 44.60it/s]\n",
            "  0%|          | 0/118 [00:00<?, ?it/s]"
          ],
          "name": "stderr"
        },
        {
          "output_type": "stream",
          "text": [
            "Test set: Accuracy_digit=98.86 Accuracy_Rnum=65.41\n",
            "EPOCH: 24\n"
          ],
          "name": "stdout"
        },
        {
          "output_type": "stream",
          "text": [
            "Loss=2.2744786739349365 Batch_id=117 Accuracy_digit=98.73 Accuracy_Rnum=62.48: 100%|██████████| 118/118 [00:02<00:00, 45.17it/s]\n",
            "  0%|          | 0/118 [00:00<?, ?it/s]"
          ],
          "name": "stderr"
        },
        {
          "output_type": "stream",
          "text": [
            "Test set: Accuracy_digit=98.92 Accuracy_Rnum=62.23\n",
            "EPOCH: 25\n"
          ],
          "name": "stdout"
        },
        {
          "output_type": "stream",
          "text": [
            "Loss=2.077130079269409 Batch_id=117 Accuracy_digit=98.62 Accuracy_Rnum=62.61: 100%|██████████| 118/118 [00:02<00:00, 44.94it/s]\n",
            "  0%|          | 0/118 [00:00<?, ?it/s]"
          ],
          "name": "stderr"
        },
        {
          "output_type": "stream",
          "text": [
            "Test set: Accuracy_digit=98.85 Accuracy_Rnum=69.41\n",
            "EPOCH: 26\n"
          ],
          "name": "stdout"
        },
        {
          "output_type": "stream",
          "text": [
            "Loss=2.343250274658203 Batch_id=117 Accuracy_digit=98.65 Accuracy_Rnum=63.26: 100%|██████████| 118/118 [00:02<00:00, 45.10it/s]\n",
            "  0%|          | 0/118 [00:00<?, ?it/s]"
          ],
          "name": "stderr"
        },
        {
          "output_type": "stream",
          "text": [
            "Test set: Accuracy_digit=98.77 Accuracy_Rnum=64.73\n",
            "EPOCH: 27\n"
          ],
          "name": "stdout"
        },
        {
          "output_type": "stream",
          "text": [
            "Loss=2.071636915206909 Batch_id=117 Accuracy_digit=98.64 Accuracy_Rnum=64.19: 100%|██████████| 118/118 [00:02<00:00, 46.04it/s]\n",
            "  0%|          | 0/118 [00:00<?, ?it/s]"
          ],
          "name": "stderr"
        },
        {
          "output_type": "stream",
          "text": [
            "Test set: Accuracy_digit=99.04 Accuracy_Rnum=64.21\n",
            "EPOCH: 28\n"
          ],
          "name": "stdout"
        },
        {
          "output_type": "stream",
          "text": [
            "Loss=2.149380922317505 Batch_id=117 Accuracy_digit=98.75 Accuracy_Rnum=64.20: 100%|██████████| 118/118 [00:02<00:00, 45.24it/s]\n",
            "  0%|          | 0/118 [00:00<?, ?it/s]"
          ],
          "name": "stderr"
        },
        {
          "output_type": "stream",
          "text": [
            "Test set: Accuracy_digit=99.05 Accuracy_Rnum=65.06\n",
            "EPOCH: 29\n"
          ],
          "name": "stdout"
        },
        {
          "output_type": "stream",
          "text": [
            "Loss=2.016672372817993 Batch_id=117 Accuracy_digit=98.70 Accuracy_Rnum=65.16: 100%|██████████| 118/118 [00:02<00:00, 45.31it/s]\n",
            "  0%|          | 0/118 [00:00<?, ?it/s]"
          ],
          "name": "stderr"
        },
        {
          "output_type": "stream",
          "text": [
            "Test set: Accuracy_digit=98.91 Accuracy_Rnum=63.64\n",
            "EPOCH: 30\n"
          ],
          "name": "stdout"
        },
        {
          "output_type": "stream",
          "text": [
            "Loss=2.055828332901001 Batch_id=117 Accuracy_digit=98.75 Accuracy_Rnum=65.14: 100%|██████████| 118/118 [00:02<00:00, 45.75it/s]\n",
            "  0%|          | 0/118 [00:00<?, ?it/s]"
          ],
          "name": "stderr"
        },
        {
          "output_type": "stream",
          "text": [
            "Test set: Accuracy_digit=98.93 Accuracy_Rnum=68.06\n",
            "EPOCH: 31\n"
          ],
          "name": "stdout"
        },
        {
          "output_type": "stream",
          "text": [
            "Loss=2.2845451831817627 Batch_id=117 Accuracy_digit=98.78 Accuracy_Rnum=66.00: 100%|██████████| 118/118 [00:02<00:00, 45.20it/s]\n",
            "  0%|          | 0/118 [00:00<?, ?it/s]"
          ],
          "name": "stderr"
        },
        {
          "output_type": "stream",
          "text": [
            "Test set: Accuracy_digit=98.99 Accuracy_Rnum=69.47\n",
            "EPOCH: 32\n"
          ],
          "name": "stdout"
        },
        {
          "output_type": "stream",
          "text": [
            "Loss=1.934841513633728 Batch_id=117 Accuracy_digit=98.74 Accuracy_Rnum=66.81: 100%|██████████| 118/118 [00:02<00:00, 44.29it/s]\n",
            "  0%|          | 0/118 [00:00<?, ?it/s]"
          ],
          "name": "stderr"
        },
        {
          "output_type": "stream",
          "text": [
            "Test set: Accuracy_digit=99.08 Accuracy_Rnum=67.69\n",
            "EPOCH: 33\n"
          ],
          "name": "stdout"
        },
        {
          "output_type": "stream",
          "text": [
            "Loss=1.9732989072799683 Batch_id=117 Accuracy_digit=98.75 Accuracy_Rnum=67.34: 100%|██████████| 118/118 [00:02<00:00, 43.60it/s]\n",
            "  0%|          | 0/118 [00:00<?, ?it/s]"
          ],
          "name": "stderr"
        },
        {
          "output_type": "stream",
          "text": [
            "Test set: Accuracy_digit=99.0 Accuracy_Rnum=66.62\n",
            "EPOCH: 34\n"
          ],
          "name": "stdout"
        },
        {
          "output_type": "stream",
          "text": [
            "Loss=1.9196584224700928 Batch_id=117 Accuracy_digit=98.75 Accuracy_Rnum=68.29: 100%|██████████| 118/118 [00:02<00:00, 44.10it/s]\n",
            "  0%|          | 0/118 [00:00<?, ?it/s]"
          ],
          "name": "stderr"
        },
        {
          "output_type": "stream",
          "text": [
            "Test set: Accuracy_digit=98.89 Accuracy_Rnum=71.3\n",
            "EPOCH: 35\n"
          ],
          "name": "stdout"
        },
        {
          "output_type": "stream",
          "text": [
            "Loss=2.6982412338256836 Batch_id=117 Accuracy_digit=98.78 Accuracy_Rnum=67.36: 100%|██████████| 118/118 [00:02<00:00, 45.11it/s]\n",
            "  0%|          | 0/118 [00:00<?, ?it/s]"
          ],
          "name": "stderr"
        },
        {
          "output_type": "stream",
          "text": [
            "Test set: Accuracy_digit=98.88 Accuracy_Rnum=74.24\n",
            "EPOCH: 36\n"
          ],
          "name": "stdout"
        },
        {
          "output_type": "stream",
          "text": [
            "Loss=2.0202929973602295 Batch_id=117 Accuracy_digit=98.79 Accuracy_Rnum=68.11: 100%|██████████| 118/118 [00:02<00:00, 44.32it/s]\n",
            "  0%|          | 0/118 [00:00<?, ?it/s]"
          ],
          "name": "stderr"
        },
        {
          "output_type": "stream",
          "text": [
            "Test set: Accuracy_digit=99.13 Accuracy_Rnum=76.75\n",
            "EPOCH: 37\n"
          ],
          "name": "stdout"
        },
        {
          "output_type": "stream",
          "text": [
            "Loss=2.3173155784606934 Batch_id=117 Accuracy_digit=98.84 Accuracy_Rnum=69.28: 100%|██████████| 118/118 [00:02<00:00, 44.34it/s]\n",
            "  0%|          | 0/118 [00:00<?, ?it/s]"
          ],
          "name": "stderr"
        },
        {
          "output_type": "stream",
          "text": [
            "Test set: Accuracy_digit=99.05 Accuracy_Rnum=76.76\n",
            "EPOCH: 38\n"
          ],
          "name": "stdout"
        },
        {
          "output_type": "stream",
          "text": [
            "Loss=1.8535654544830322 Batch_id=117 Accuracy_digit=98.82 Accuracy_Rnum=69.82: 100%|██████████| 118/118 [00:02<00:00, 44.63it/s]\n",
            "  0%|          | 0/118 [00:00<?, ?it/s]"
          ],
          "name": "stderr"
        },
        {
          "output_type": "stream",
          "text": [
            "Test set: Accuracy_digit=99.05 Accuracy_Rnum=75.39\n",
            "EPOCH: 39\n"
          ],
          "name": "stdout"
        },
        {
          "output_type": "stream",
          "text": [
            "Loss=1.9164068698883057 Batch_id=117 Accuracy_digit=98.78 Accuracy_Rnum=69.24: 100%|██████████| 118/118 [00:02<00:00, 44.28it/s]\n",
            "  0%|          | 0/118 [00:00<?, ?it/s]"
          ],
          "name": "stderr"
        },
        {
          "output_type": "stream",
          "text": [
            "Test set: Accuracy_digit=99.01 Accuracy_Rnum=75.88\n",
            "EPOCH: 40\n"
          ],
          "name": "stdout"
        },
        {
          "output_type": "stream",
          "text": [
            "Loss=1.9022130966186523 Batch_id=117 Accuracy_digit=98.82 Accuracy_Rnum=69.54: 100%|██████████| 118/118 [00:02<00:00, 44.92it/s]\n",
            "  0%|          | 0/118 [00:00<?, ?it/s]"
          ],
          "name": "stderr"
        },
        {
          "output_type": "stream",
          "text": [
            "Test set: Accuracy_digit=99.14 Accuracy_Rnum=71.84\n",
            "EPOCH: 41\n"
          ],
          "name": "stdout"
        },
        {
          "output_type": "stream",
          "text": [
            "Loss=2.1961755752563477 Batch_id=117 Accuracy_digit=98.84 Accuracy_Rnum=69.34: 100%|██████████| 118/118 [00:02<00:00, 44.51it/s]\n",
            "  0%|          | 0/118 [00:00<?, ?it/s]"
          ],
          "name": "stderr"
        },
        {
          "output_type": "stream",
          "text": [
            "Test set: Accuracy_digit=99.1 Accuracy_Rnum=70.07\n",
            "EPOCH: 42\n"
          ],
          "name": "stdout"
        },
        {
          "output_type": "stream",
          "text": [
            "Loss=2.0702972412109375 Batch_id=117 Accuracy_digit=98.89 Accuracy_Rnum=68.58: 100%|██████████| 118/118 [00:02<00:00, 44.97it/s]\n",
            "  0%|          | 0/118 [00:00<?, ?it/s]"
          ],
          "name": "stderr"
        },
        {
          "output_type": "stream",
          "text": [
            "Test set: Accuracy_digit=99.13 Accuracy_Rnum=77.32\n",
            "EPOCH: 43\n"
          ],
          "name": "stdout"
        },
        {
          "output_type": "stream",
          "text": [
            "Loss=1.7472914457321167 Batch_id=117 Accuracy_digit=98.83 Accuracy_Rnum=70.45: 100%|██████████| 118/118 [00:02<00:00, 43.70it/s]\n",
            "  0%|          | 0/118 [00:00<?, ?it/s]"
          ],
          "name": "stderr"
        },
        {
          "output_type": "stream",
          "text": [
            "Test set: Accuracy_digit=99.0 Accuracy_Rnum=74.52\n",
            "EPOCH: 44\n"
          ],
          "name": "stdout"
        },
        {
          "output_type": "stream",
          "text": [
            "Loss=2.1231653690338135 Batch_id=117 Accuracy_digit=98.80 Accuracy_Rnum=70.26: 100%|██████████| 118/118 [00:02<00:00, 43.70it/s]\n",
            "  0%|          | 0/118 [00:00<?, ?it/s]"
          ],
          "name": "stderr"
        },
        {
          "output_type": "stream",
          "text": [
            "Test set: Accuracy_digit=99.31 Accuracy_Rnum=77.77\n",
            "EPOCH: 45\n"
          ],
          "name": "stdout"
        },
        {
          "output_type": "stream",
          "text": [
            "Loss=1.7717400789260864 Batch_id=117 Accuracy_digit=98.88 Accuracy_Rnum=71.02: 100%|██████████| 118/118 [00:02<00:00, 45.63it/s]\n",
            "  0%|          | 0/118 [00:00<?, ?it/s]"
          ],
          "name": "stderr"
        },
        {
          "output_type": "stream",
          "text": [
            "Test set: Accuracy_digit=99.12 Accuracy_Rnum=72.08\n",
            "EPOCH: 46\n"
          ],
          "name": "stdout"
        },
        {
          "output_type": "stream",
          "text": [
            "Loss=2.8023018836975098 Batch_id=117 Accuracy_digit=98.88 Accuracy_Rnum=71.02: 100%|██████████| 118/118 [00:02<00:00, 44.34it/s]\n",
            "  0%|          | 0/118 [00:00<?, ?it/s]"
          ],
          "name": "stderr"
        },
        {
          "output_type": "stream",
          "text": [
            "Test set: Accuracy_digit=99.07 Accuracy_Rnum=71.92\n",
            "EPOCH: 47\n"
          ],
          "name": "stdout"
        },
        {
          "output_type": "stream",
          "text": [
            "Loss=1.7878960371017456 Batch_id=117 Accuracy_digit=98.88 Accuracy_Rnum=69.94: 100%|██████████| 118/118 [00:02<00:00, 43.50it/s]\n",
            "  0%|          | 0/118 [00:00<?, ?it/s]"
          ],
          "name": "stderr"
        },
        {
          "output_type": "stream",
          "text": [
            "Test set: Accuracy_digit=99.15 Accuracy_Rnum=72.04\n",
            "EPOCH: 48\n"
          ],
          "name": "stdout"
        },
        {
          "output_type": "stream",
          "text": [
            "Loss=1.8485628366470337 Batch_id=117 Accuracy_digit=98.87 Accuracy_Rnum=70.87: 100%|██████████| 118/118 [00:02<00:00, 42.80it/s]\n",
            "  0%|          | 0/118 [00:00<?, ?it/s]"
          ],
          "name": "stderr"
        },
        {
          "output_type": "stream",
          "text": [
            "Test set: Accuracy_digit=98.96 Accuracy_Rnum=79.58\n",
            "EPOCH: 49\n"
          ],
          "name": "stdout"
        },
        {
          "output_type": "stream",
          "text": [
            "Loss=1.844649314880371 Batch_id=117 Accuracy_digit=98.91 Accuracy_Rnum=72.39: 100%|██████████| 118/118 [00:02<00:00, 44.21it/s]\n"
          ],
          "name": "stderr"
        },
        {
          "output_type": "stream",
          "text": [
            "Test set: Accuracy_digit=99.02 Accuracy_Rnum=81.49\n"
          ],
          "name": "stdout"
        }
      ]
    },
    {
      "cell_type": "code",
      "metadata": {
        "colab": {
          "base_uri": "https://localhost:8080/",
          "height": 624
        },
        "id": "ek0KdRQPASHs",
        "outputId": "82f789be-7a32-4f4e-fc3b-cc26c8405447"
      },
      "source": [
        "%matplotlib inline\n",
        "import matplotlib.pyplot as plt\n",
        "\n",
        "fig, axs = plt.subplots(2,2,figsize=(15,10))\n",
        "\n",
        "axs[0, 0].plot(train_acc['Image'][:])\n",
        "axs[0, 0].set_title(\"Training - Image\")\n",
        "axs[0, 1].plot(train_acc['RandomNumber'][:])\n",
        "axs[0, 1].set_title(\"Training - Random Number Model\")\n",
        "axs[1, 0].plot(test_acc['Image'][:])\n",
        "axs[1, 0].set_title(\"Test - Image\")\n",
        "axs[1, 1].plot(test_acc['RandomNumber'][:])\n",
        "axs[1, 1].set_title(\"Test - Random Number Model\")"
      ],
      "execution_count": 30,
      "outputs": [
        {
          "output_type": "execute_result",
          "data": {
            "text/plain": [
              "Text(0.5, 1.0, 'Test - Random Number Model')"
            ]
          },
          "metadata": {
            "tags": []
          },
          "execution_count": 30
        },
        {
          "output_type": "display_data",
          "data": {
            "image/png": "[encoded data removed]",
            "text/plain": [
              "<Figure size 1080x720 with 4 Axes>"
            ]
          },
          "metadata": {
            "tags": [],
            "needs_background": "light"
          }
        }
      ]
    },
    {
      "cell_type": "code",
      "metadata": {
        "id": "6RLTnoVnU4u6"
      },
      "source": [
        ""
      ],
      "execution_count": 30,
      "outputs": []
    }
  ]
}