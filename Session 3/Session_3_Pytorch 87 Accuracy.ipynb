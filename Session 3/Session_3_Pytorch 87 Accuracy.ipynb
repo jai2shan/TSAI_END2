{
  "nbformat": 4,
  "nbformat_minor": 0,
  "metadata": {
    "colab": {
      "name": "Session 3 - Pytorch.ipynb",
      "provenance": [],
      "include_colab_link": true
    },
    "kernelspec": {
      "name": "python3",
      "display_name": "Python 3"
    },
    "language_info": {
      "name": "python"
    },
    "accelerator": "GPU"
  },
  "cells": [
    {
      "cell_type": "markdown",
      "metadata": {
        "id": "view-in-github",
        "colab_type": "text"
      },
      "source": [
        "<a href=\"https://colab.research.google.com/github/jai2shan/TSAI_END2/blob/main/Session%203/Session_3_Pytorch%2087%20Accuracy.ipynb\" target=\"_parent\"><img src=\"https://colab.research.google.com/assets/colab-badge.svg\" alt=\"Open In Colab\"/></a>"
      ]
    },
    {
      "cell_type": "code",
      "metadata": {
        "colab": {
          "base_uri": "https://localhost:8080/"
        },
        "id": "PQNZgS2HqVgu",
        "outputId": "684e45d6-2e01-408f-ae6e-489cb74c7445"
      },
      "source": [
        "from torchvision import datasets\n",
        "datasets.MNIST('data', download=True)"
      ],
      "execution_count": 11,
      "outputs": [
        {
          "output_type": "execute_result",
          "data": {
            "text/plain": [
              "Dataset MNIST\n",
              "    Number of datapoints: 60000\n",
              "    Root location: data\n",
              "    Split: Train"
            ]
          },
          "metadata": {
            "tags": []
          },
          "execution_count": 11
        }
      ]
    },
    {
      "cell_type": "code",
      "metadata": {
        "id": "wp73hOBzqmVf"
      },
      "source": [
        "\n",
        "# import torch\n",
        "# train = torch.load(\"/content/data/MNIST/processed/training.pt\")\n",
        "# randInt = torch.randint(0,9,(60000,))\n",
        "\n",
        "# import torch\n",
        "# from torch.utils.data import DataLoader\n",
        "\n",
        "# class CustomLoader_MNIST(DataLoader):\n",
        "#     def __init__(self,pt_path):\n",
        "#         self.path = pt_path\n",
        "#         self.data = torch.load(self.path)\n",
        "        \n",
        "\n",
        "#     def __getitem__(self, index):\n",
        "#       print(self.data)\n",
        "#       r = self.data.iloc[index]\n",
        "#       randInt = torch.randint(0,9,(r.shape[0],))\n",
        "\n",
        "#       image, label = r\n",
        "#       output = torch.cat((label.reshape(len(label),-1),\n",
        "#                           (label + randInt).reshape(len(label),-1)),\n",
        "#                          dim = 1)\n",
        "#       x = torch.empty(size=(len(randInt), 28,28))\n",
        "#       for i in range(len(randInt)):\n",
        "#           x[i] = randInt[i]*torch.ones(28,28)\n",
        "          \n",
        "#       input = torch.cat((image, x),dim = 1)\n",
        "#       return output, input\n",
        "\n",
        "#     def __len__(self):\n",
        "#       return len(self.data)\n",
        "\n",
        "# train_data = CustomLoader_MNIST(\"/content/data/MNIST/processed/training.pt\")\n",
        "# test_data = CustomLoader_MNIST(\"/content/data/MNIST/processed/test.pt\")"
      ],
      "execution_count": 12,
      "outputs": []
    },
    {
      "cell_type": "code",
      "metadata": {
        "id": "dSFcGVusACB7"
      },
      "source": [
        "import torch\n",
        "train = torch.load(\"/content/data/MNIST/processed/training.pt\")\n",
        "randInt = torch.randint(0,9,(60000,))\n",
        "\n",
        "import torch\n",
        "from torch.utils.data import DataLoader\n",
        "\n",
        "class CustomLoader_MNIST(DataLoader):\n",
        "    def __init__(self,pt_path):\n",
        "        self.path = pt_path\n",
        "        self.data = torch.load(self.path)\n",
        "        \n",
        "\n",
        "    def __getitem__(self, idx):\n",
        "      if torch.is_tensor(idx):\n",
        "        idx = idx.tolist()\n",
        "\n",
        "      image, label = self.data[0][idx], self.data[1][idx] \n",
        "\n",
        "      randInt = torch.randint(0,9,(1,))\n",
        "      x1, x2, y1, y2 = image.reshape(1,28,28), randInt, label, label + randInt[0]\n",
        "\n",
        "      return x1, x2, y1, y2\n",
        "\n",
        "    def __len__(self):\n",
        "      return len(self.data[0])\n",
        "\n",
        "train_data = CustomLoader_MNIST(\"/content/data/MNIST/processed/training.pt\")\n",
        "test_data = CustomLoader_MNIST(\"/content/data/MNIST/processed/test.pt\")"
      ],
      "execution_count": 13,
      "outputs": []
    },
    {
      "cell_type": "code",
      "metadata": {
        "id": "ujUQfPZvAIXC"
      },
      "source": [
        ""
      ],
      "execution_count": 13,
      "outputs": []
    },
    {
      "cell_type": "code",
      "metadata": {
        "id": "tXnBR2bm5fwH"
      },
      "source": [
        "torch.manual_seed(1)\n",
        "batch_size = 512\n",
        "use_cuda = torch.cuda.is_available()\n",
        "\n",
        "kwargs = {'num_workers': 1, 'pin_memory': True} if use_cuda else {}\n",
        "train_loader = torch.utils.data.DataLoader(train_data, batch_size=batch_size, shuffle=True, **kwargs)\n",
        "test_loader = torch.utils.data.DataLoader(test_data, batch_size=batch_size, shuffle=True, **kwargs)"
      ],
      "execution_count": 14,
      "outputs": []
    },
    {
      "cell_type": "code",
      "metadata": {
        "id": "5OpyMhcyIzpH",
        "colab": {
          "base_uri": "https://localhost:8080/"
        },
        "outputId": "11349845-a698-46bc-8da8-80ac7c488c0e"
      },
      "source": [
        "from tqdm import tqdm\n",
        "pbar = tqdm(train_loader)\n",
        "device = torch.device(\"cuda\" if use_cuda else \"cpu\")\n",
        "for batch_idx, (x1, x2, y1, y2) in enumerate(pbar):\n",
        "    x1, x2, y1, y2 = x1.to(device), x2.to(device), y1.to(device), y2.to(device)\n",
        "    pbar.set_description(desc= f'batch_id={batch_idx}')"
      ],
      "execution_count": 15,
      "outputs": [
        {
          "output_type": "stream",
          "text": [
            "batch_id=117: 100%|██████████| 118/118 [00:01<00:00, 67.49it/s]\n"
          ],
          "name": "stderr"
        }
      ]
    },
    {
      "cell_type": "code",
      "metadata": {
        "id": "ea6wQjL5IIue"
      },
      "source": [
        "import torch.nn.functional as F\n",
        "import torch.nn as nn\n",
        "dropout_value = 0.1\n",
        "\n",
        "class Net(nn.Module):\n",
        "    def __init__(self):\n",
        "        super(Net, self).__init__()\n",
        "        # Input Block\n",
        "        self.convblock1 = nn.Sequential(\n",
        "            nn.Conv2d(in_channels=1, out_channels=8, kernel_size=(3, 3), padding=0, bias=False),\n",
        "            nn.ReLU(),\n",
        "            nn.BatchNorm2d(8),\n",
        "            nn.Dropout(dropout_value)\n",
        "        ) # output_size = 26\n",
        "\n",
        "        # CONVOLUTION BLOCK 1\n",
        "        self.convblock2 = nn.Sequential(\n",
        "            nn.Conv2d(in_channels=8, out_channels=16, kernel_size=(3, 3), padding=0, bias=False),\n",
        "            nn.ReLU(),\n",
        "            nn.BatchNorm2d(16),\n",
        "            nn.Dropout(dropout_value)\n",
        "        ) # output_size = 24\n",
        "\n",
        "        # TRANSITION BLOCK 1\n",
        "        self.convblock3 = nn.Sequential(\n",
        "            nn.Conv2d(in_channels=16, out_channels=8, kernel_size=(1, 1), padding=0, bias=False),\n",
        "        ) # output_size = 24\n",
        "        self.pool1 = nn.MaxPool2d(2, 2) # output_size = 12\n",
        "\n",
        "        # CONVOLUTION BLOCK 2\n",
        "        self.convblock4 = nn.Sequential(\n",
        "            nn.Conv2d(in_channels=8, out_channels=16, kernel_size=(3, 3), padding=0, bias=False),\n",
        "            nn.ReLU(),            \n",
        "            nn.BatchNorm2d(16),\n",
        "            nn.Dropout(dropout_value)\n",
        "        ) # output_size = 10\n",
        "        self.convblock5 = nn.Sequential(\n",
        "            nn.Conv2d(in_channels=16, out_channels=16, kernel_size=(3, 3), padding=0, bias=False),\n",
        "            nn.ReLU(),            \n",
        "            nn.BatchNorm2d(16),\n",
        "            nn.Dropout(dropout_value)\n",
        "        ) # output_size = 8\n",
        "        self.convblock6 = nn.Sequential(\n",
        "            nn.Conv2d(in_channels=16, out_channels=16, kernel_size=(3, 3), padding=0, bias=False),\n",
        "            nn.ReLU(),            \n",
        "            nn.BatchNorm2d(16),\n",
        "            nn.Dropout(dropout_value)\n",
        "        ) # output_size = 6\n",
        "        self.convblock7 = nn.Sequential(\n",
        "            nn.Conv2d(in_channels=16, out_channels=16, kernel_size=(3, 3), padding=1, bias=False),\n",
        "            nn.ReLU(),            \n",
        "            nn.BatchNorm2d(16),\n",
        "            nn.Dropout(dropout_value)\n",
        "        ) # output_size = 6\n",
        "        \n",
        "        # OUTPUT BLOCK\n",
        "        self.gap = nn.Sequential(\n",
        "            nn.AvgPool2d(kernel_size=6)\n",
        "        ) # output_size = 1\n",
        "\n",
        "        self.convblock8 = nn.Sequential(\n",
        "            nn.Conv2d(in_channels=16, out_channels=10, kernel_size=(1, 1), padding=0, bias=False),\n",
        "            # nn.BatchNorm2d(10),\n",
        "            # nn.ReLU(),\n",
        "            # nn.Dropout(dropout_value)\n",
        "        ) \n",
        "\n",
        "        self.dropout = nn.Dropout(dropout_value)\n",
        "        # self.relu = nn.ReLU()\n",
        "        self.ln1 = nn.Linear(11,19)\n",
        "\n",
        "    def forward(self, img, rnum):        \n",
        "        img = self.convblock1(img)\n",
        "        img = self.convblock2(img)\n",
        "        img = self.convblock3(img)\n",
        "        img = self.pool1(img)\n",
        "        img = self.convblock4(img)\n",
        "        img = self.convblock5(img)\n",
        "        img = self.convblock6(img)\n",
        "        img = self.convblock7(img)\n",
        "        img = self.gap(img)        \n",
        "        img = self.convblock8(img)\n",
        "        \n",
        "        img = img.view(-1, 10)\n",
        "        rnum = torch.cat((img, rnum), dim=1)\n",
        "        rnum = self.ln1(rnum)\n",
        "\n",
        "        img = F.log_softmax(img, dim=-1)\n",
        "        rnum = F.log_softmax(rnum, dim=-1)\n",
        "        return img, rnum"
      ],
      "execution_count": 16,
      "outputs": []
    },
    {
      "cell_type": "code",
      "metadata": {
        "id": "SdwQvMu7KXGC",
        "colab": {
          "base_uri": "https://localhost:8080/"
        },
        "outputId": "3a546446-379a-4ca1-b5a5-783c9f103276"
      },
      "source": [
        "from torchsummary import summary\n",
        "use_cuda = torch.cuda.is_available()\n",
        "device = torch.device(\"cuda\" if use_cuda else \"cpu\")\n",
        "print(device)\n",
        "model = Net().to(device)\n",
        "# summary(model, input_size=((1, 28, 28),1))"
      ],
      "execution_count": 17,
      "outputs": [
        {
          "output_type": "stream",
          "text": [
            "cuda\n"
          ],
          "name": "stdout"
        }
      ]
    },
    {
      "cell_type": "code",
      "metadata": {
        "id": "EEm0ZH3wKz08"
      },
      "source": [
        "from tqdm import tqdm\n",
        "\n",
        "train_losses = []\n",
        "test_losses =  []\n",
        "train_acc =  {'Image': [], 'RandomNumber': []}\n",
        "test_acc = {'Image': [], 'RandomNumber': []}\n",
        "\n",
        "\n",
        "def train(model, device, train_loader, optimizer, epoch,loss1_,loss2_):\n",
        "\n",
        "  model.train()\n",
        "  pbar = tqdm(train_loader)\n",
        "  correct1 = 0\n",
        "  processed = 0\n",
        "  correct2 = 0\n",
        "\n",
        "  for batch_idx, (x1, x2, y1, y2) in enumerate(pbar):\n",
        "    # Data\n",
        "    x1, x2, y1, y2 = x1.float().to(device), x2.float().to(device), y1.to(device), y2.to(device)\n",
        "    # Init\n",
        "    \n",
        "    optimizer.zero_grad()\n",
        "    # In PyTorch, we need to set the gradients to zero before starting to do backpropragation because PyTorch accumulates the gradients on subsequent backward passes. \n",
        "    # Because of this, when you start your training loop, ideally you should zero out the gradients so that you do the parameter update correctly.\n",
        "\n",
        "    # Predict\n",
        "\n",
        "    y1_pred, y2_pred = model(x1, x2)\n",
        "\n",
        "    # Calculate loss\n",
        "    loss1 = F.nll_loss(y1_pred, y1)\n",
        "    loss2 = F.nll_loss(y2_pred, y2)\n",
        "\n",
        "    # Cross Entropy Loss\n",
        "    # loss1 = loss1_(y1_pred, y1)\n",
        "    # loss2 = loss2_(y2_pred, y2)\n",
        "\n",
        "    loss =  torch.add(loss1, loss2*2)\n",
        "    train_losses.append(loss)\n",
        "\n",
        "    # Backpropagation\n",
        "    loss.backward()\n",
        "    optimizer.step()\n",
        "\n",
        "    # Update pbar-tqdm\n",
        "    \n",
        "    pred1 = y1_pred.argmax(dim=1, keepdim=True)\n",
        "    pred2 = y2_pred.argmax(dim=1, keepdim=True)\n",
        "    \n",
        "    # get the index of the max log-probability\n",
        "    correct1 += pred1.eq(y1.view_as(pred1)).sum().item()\n",
        "    correct2 += pred2.eq(y2.view_as(pred2)).sum().item()\n",
        "    processed += len(x1)\n",
        "\n",
        "    pbar.set_description(desc= f'Loss={loss.item()} Batch_id={batch_idx} Accuracy_digit={100*correct1/processed:0.2f} Accuracy_Rnum={100*correct2/processed:0.2f}')\n",
        "    train_acc['Image'].append(100*correct1/processed)\n",
        "    train_acc['RandomNumber'].append(100*correct2/processed)\n",
        "\n",
        "def test(model, device, test_loader):\n",
        "    model.eval()\n",
        "    correct1 = 0\n",
        "    correct2 = 0\n",
        "    with torch.no_grad():\n",
        "        for x1, x2, y1, y2 in test_loader:\n",
        "            x1, x2, y1, y2 = x1.float().to(device), x2.float().to(device), y1.to(device), y2.to(device)\n",
        "            y1_pred, y2_pred = model(x1, x2)\n",
        "            \n",
        "            pred1 = y1_pred.argmax(dim=1, keepdim=True)\n",
        "            pred2 = y2_pred.argmax(dim=1, keepdim=True)\n",
        "            correct1 += pred1.eq(y1.view_as(pred1)).sum().item()\n",
        "            correct2 += pred2.eq(y2.view_as(pred2)).sum().item()\n",
        "\n",
        "    print('Test set: Accuracy_digit={} Accuracy_Rnum={}'.format(100*correct1/len(test_loader.dataset),100*correct2/len(test_loader.dataset)))\n",
        "    test_acc['Image'].append(100*correct1/len(test_loader.dataset))\n",
        "    test_acc['RandomNumber'].append(100*correct2/len(test_loader.dataset))"
      ],
      "execution_count": 18,
      "outputs": []
    },
    {
      "cell_type": "code",
      "metadata": {
        "id": "XfLy2ms8Uby2",
        "colab": {
          "base_uri": "https://localhost:8080/"
        },
        "outputId": "7dc3ee65-8284-45ed-bd90-019b66be560a"
      },
      "source": [
        "from torch.optim.lr_scheduler import StepLR\n",
        "import torch.optim as optim\n",
        "\n",
        "model =  Net().to(device)\n",
        "optimizer = optim.SGD(model.parameters(), lr=0.02,momentum=0.9)\n",
        "\n",
        "loss1_ = nn.CrossEntropyLoss()\n",
        "loss2_ = nn.CrossEntropyLoss()\n",
        "\n",
        "EPOCHS = 50\n",
        "for epoch in range(EPOCHS):\n",
        "    print(\"EPOCH:\", epoch)\n",
        "    train(model, device, train_loader, optimizer, epoch,loss1_,loss2_)\n",
        "    test(model, device, test_loader)"
      ],
      "execution_count": 19,
      "outputs": [
        {
          "output_type": "stream",
          "text": [
            "\r  0%|          | 0/118 [00:00<?, ?it/s]"
          ],
          "name": "stderr"
        },
        {
          "output_type": "stream",
          "text": [
            "EPOCH: 0\n"
          ],
          "name": "stdout"
        },
        {
          "output_type": "stream",
          "text": [
            "Loss=3.9332685470581055 Batch_id=117 Accuracy_digit=71.27 Accuracy_Rnum=17.70: 100%|██████████| 118/118 [00:02<00:00, 45.22it/s]\n",
            "  0%|          | 0/118 [00:00<?, ?it/s]"
          ],
          "name": "stderr"
        },
        {
          "output_type": "stream",
          "text": [
            "Test set: Accuracy_digit=93.48 Accuracy_Rnum=25.28\n",
            "EPOCH: 1\n"
          ],
          "name": "stdout"
        },
        {
          "output_type": "stream",
          "text": [
            "Loss=3.27048659324646 Batch_id=117 Accuracy_digit=95.94 Accuracy_Rnum=32.80: 100%|██████████| 118/118 [00:02<00:00, 46.12it/s]\n",
            "  0%|          | 0/118 [00:00<?, ?it/s]"
          ],
          "name": "stderr"
        },
        {
          "output_type": "stream",
          "text": [
            "Test set: Accuracy_digit=97.64 Accuracy_Rnum=33.58\n",
            "EPOCH: 2\n"
          ],
          "name": "stdout"
        },
        {
          "output_type": "stream",
          "text": [
            "Loss=3.2357938289642334 Batch_id=117 Accuracy_digit=97.14 Accuracy_Rnum=38.88: 100%|██████████| 118/118 [00:02<00:00, 47.46it/s]\n",
            "  0%|          | 0/118 [00:00<?, ?it/s]"
          ],
          "name": "stderr"
        },
        {
          "output_type": "stream",
          "text": [
            "Test set: Accuracy_digit=97.98 Accuracy_Rnum=38.86\n",
            "EPOCH: 3\n"
          ],
          "name": "stdout"
        },
        {
          "output_type": "stream",
          "text": [
            "Loss=2.6932263374328613 Batch_id=117 Accuracy_digit=97.57 Accuracy_Rnum=42.77: 100%|██████████| 118/118 [00:02<00:00, 47.18it/s]\n",
            "  0%|          | 0/118 [00:00<?, ?it/s]"
          ],
          "name": "stderr"
        },
        {
          "output_type": "stream",
          "text": [
            "Test set: Accuracy_digit=97.97 Accuracy_Rnum=39.81\n",
            "EPOCH: 4\n"
          ],
          "name": "stdout"
        },
        {
          "output_type": "stream",
          "text": [
            "Loss=2.5880017280578613 Batch_id=117 Accuracy_digit=97.78 Accuracy_Rnum=45.54: 100%|██████████| 118/118 [00:02<00:00, 49.55it/s]\n",
            "  0%|          | 0/118 [00:00<?, ?it/s]"
          ],
          "name": "stderr"
        },
        {
          "output_type": "stream",
          "text": [
            "Test set: Accuracy_digit=97.92 Accuracy_Rnum=46.27\n",
            "EPOCH: 5\n"
          ],
          "name": "stdout"
        },
        {
          "output_type": "stream",
          "text": [
            "Loss=2.8685827255249023 Batch_id=117 Accuracy_digit=98.02 Accuracy_Rnum=49.23: 100%|██████████| 118/118 [00:02<00:00, 49.14it/s]\n",
            "  0%|          | 0/118 [00:00<?, ?it/s]"
          ],
          "name": "stderr"
        },
        {
          "output_type": "stream",
          "text": [
            "Test set: Accuracy_digit=98.11 Accuracy_Rnum=51.67\n",
            "EPOCH: 6\n"
          ],
          "name": "stdout"
        },
        {
          "output_type": "stream",
          "text": [
            "Loss=2.8183200359344482 Batch_id=117 Accuracy_digit=98.12 Accuracy_Rnum=50.26: 100%|██████████| 118/118 [00:02<00:00, 46.80it/s]\n",
            "  0%|          | 0/118 [00:00<?, ?it/s]"
          ],
          "name": "stderr"
        },
        {
          "output_type": "stream",
          "text": [
            "Test set: Accuracy_digit=98.48 Accuracy_Rnum=50.96\n",
            "EPOCH: 7\n"
          ],
          "name": "stdout"
        },
        {
          "output_type": "stream",
          "text": [
            "Loss=2.581117868423462 Batch_id=117 Accuracy_digit=98.21 Accuracy_Rnum=52.61: 100%|██████████| 118/118 [00:02<00:00, 45.96it/s]\n",
            "  0%|          | 0/118 [00:00<?, ?it/s]"
          ],
          "name": "stderr"
        },
        {
          "output_type": "stream",
          "text": [
            "Test set: Accuracy_digit=98.54 Accuracy_Rnum=56.57\n",
            "EPOCH: 8\n"
          ],
          "name": "stdout"
        },
        {
          "output_type": "stream",
          "text": [
            "Loss=2.8628947734832764 Batch_id=117 Accuracy_digit=98.33 Accuracy_Rnum=53.36: 100%|██████████| 118/118 [00:02<00:00, 45.99it/s]\n",
            "  0%|          | 0/118 [00:00<?, ?it/s]"
          ],
          "name": "stderr"
        },
        {
          "output_type": "stream",
          "text": [
            "Test set: Accuracy_digit=98.68 Accuracy_Rnum=53.85\n",
            "EPOCH: 9\n"
          ],
          "name": "stdout"
        },
        {
          "output_type": "stream",
          "text": [
            "Loss=2.5615999698638916 Batch_id=117 Accuracy_digit=98.38 Accuracy_Rnum=54.82: 100%|██████████| 118/118 [00:02<00:00, 47.70it/s]\n",
            "  0%|          | 0/118 [00:00<?, ?it/s]"
          ],
          "name": "stderr"
        },
        {
          "output_type": "stream",
          "text": [
            "Test set: Accuracy_digit=98.64 Accuracy_Rnum=52.69\n",
            "EPOCH: 10\n"
          ],
          "name": "stdout"
        },
        {
          "output_type": "stream",
          "text": [
            "Loss=2.1029863357543945 Batch_id=117 Accuracy_digit=98.38 Accuracy_Rnum=56.83: 100%|██████████| 118/118 [00:02<00:00, 47.96it/s]\n",
            "  0%|          | 0/118 [00:00<?, ?it/s]"
          ],
          "name": "stderr"
        },
        {
          "output_type": "stream",
          "text": [
            "Test set: Accuracy_digit=98.81 Accuracy_Rnum=60.46\n",
            "EPOCH: 11\n"
          ],
          "name": "stdout"
        },
        {
          "output_type": "stream",
          "text": [
            "Loss=2.507991313934326 Batch_id=117 Accuracy_digit=98.48 Accuracy_Rnum=56.65: 100%|██████████| 118/118 [00:02<00:00, 48.80it/s]\n",
            "  0%|          | 0/118 [00:00<?, ?it/s]"
          ],
          "name": "stderr"
        },
        {
          "output_type": "stream",
          "text": [
            "Test set: Accuracy_digit=98.66 Accuracy_Rnum=55.26\n",
            "EPOCH: 12\n"
          ],
          "name": "stdout"
        },
        {
          "output_type": "stream",
          "text": [
            "Loss=2.4700264930725098 Batch_id=117 Accuracy_digit=98.48 Accuracy_Rnum=58.01: 100%|██████████| 118/118 [00:02<00:00, 47.51it/s]\n",
            "  0%|          | 0/118 [00:00<?, ?it/s]"
          ],
          "name": "stderr"
        },
        {
          "output_type": "stream",
          "text": [
            "Test set: Accuracy_digit=98.26 Accuracy_Rnum=57.12\n",
            "EPOCH: 13\n"
          ],
          "name": "stdout"
        },
        {
          "output_type": "stream",
          "text": [
            "Loss=2.208289384841919 Batch_id=117 Accuracy_digit=98.52 Accuracy_Rnum=60.01: 100%|██████████| 118/118 [00:02<00:00, 45.57it/s]\n",
            "  0%|          | 0/118 [00:00<?, ?it/s]"
          ],
          "name": "stderr"
        },
        {
          "output_type": "stream",
          "text": [
            "Test set: Accuracy_digit=98.74 Accuracy_Rnum=67.38\n",
            "EPOCH: 14\n"
          ],
          "name": "stdout"
        },
        {
          "output_type": "stream",
          "text": [
            "Loss=2.058542490005493 Batch_id=117 Accuracy_digit=98.59 Accuracy_Rnum=61.17: 100%|██████████| 118/118 [00:02<00:00, 45.81it/s]\n",
            "  0%|          | 0/118 [00:00<?, ?it/s]"
          ],
          "name": "stderr"
        },
        {
          "output_type": "stream",
          "text": [
            "Test set: Accuracy_digit=98.94 Accuracy_Rnum=58.74\n",
            "EPOCH: 15\n"
          ],
          "name": "stdout"
        },
        {
          "output_type": "stream",
          "text": [
            "Loss=2.352254867553711 Batch_id=117 Accuracy_digit=98.62 Accuracy_Rnum=61.37: 100%|██████████| 118/118 [00:02<00:00, 46.62it/s]\n",
            "  0%|          | 0/118 [00:00<?, ?it/s]"
          ],
          "name": "stderr"
        },
        {
          "output_type": "stream",
          "text": [
            "Test set: Accuracy_digit=98.97 Accuracy_Rnum=66.43\n",
            "EPOCH: 16\n"
          ],
          "name": "stdout"
        },
        {
          "output_type": "stream",
          "text": [
            "Loss=1.9956490993499756 Batch_id=117 Accuracy_digit=98.64 Accuracy_Rnum=62.38: 100%|██████████| 118/118 [00:02<00:00, 48.18it/s]\n",
            "  0%|          | 0/118 [00:00<?, ?it/s]"
          ],
          "name": "stderr"
        },
        {
          "output_type": "stream",
          "text": [
            "Test set: Accuracy_digit=98.64 Accuracy_Rnum=63.86\n",
            "EPOCH: 17\n"
          ],
          "name": "stdout"
        },
        {
          "output_type": "stream",
          "text": [
            "Loss=2.1132285594940186 Batch_id=117 Accuracy_digit=98.61 Accuracy_Rnum=62.47: 100%|██████████| 118/118 [00:02<00:00, 48.27it/s]\n",
            "  0%|          | 0/118 [00:00<?, ?it/s]"
          ],
          "name": "stderr"
        },
        {
          "output_type": "stream",
          "text": [
            "Test set: Accuracy_digit=98.71 Accuracy_Rnum=64.6\n",
            "EPOCH: 18\n"
          ],
          "name": "stdout"
        },
        {
          "output_type": "stream",
          "text": [
            "Loss=2.0226573944091797 Batch_id=117 Accuracy_digit=98.67 Accuracy_Rnum=63.68: 100%|██████████| 118/118 [00:02<00:00, 50.23it/s]\n",
            "  0%|          | 0/118 [00:00<?, ?it/s]"
          ],
          "name": "stderr"
        },
        {
          "output_type": "stream",
          "text": [
            "Test set: Accuracy_digit=98.77 Accuracy_Rnum=58.93\n",
            "EPOCH: 19\n"
          ],
          "name": "stdout"
        },
        {
          "output_type": "stream",
          "text": [
            "Loss=2.068932056427002 Batch_id=117 Accuracy_digit=98.74 Accuracy_Rnum=64.50: 100%|██████████| 118/118 [00:02<00:00, 45.91it/s]\n",
            "  0%|          | 0/118 [00:00<?, ?it/s]"
          ],
          "name": "stderr"
        },
        {
          "output_type": "stream",
          "text": [
            "Test set: Accuracy_digit=98.83 Accuracy_Rnum=64.92\n",
            "EPOCH: 20\n"
          ],
          "name": "stdout"
        },
        {
          "output_type": "stream",
          "text": [
            "Loss=2.1144320964813232 Batch_id=117 Accuracy_digit=98.75 Accuracy_Rnum=63.88: 100%|██████████| 118/118 [00:02<00:00, 45.84it/s]\n",
            "  0%|          | 0/118 [00:00<?, ?it/s]"
          ],
          "name": "stderr"
        },
        {
          "output_type": "stream",
          "text": [
            "Test set: Accuracy_digit=99.05 Accuracy_Rnum=67.18\n",
            "EPOCH: 21\n"
          ],
          "name": "stdout"
        },
        {
          "output_type": "stream",
          "text": [
            "Loss=2.1695549488067627 Batch_id=117 Accuracy_digit=98.72 Accuracy_Rnum=66.00: 100%|██████████| 118/118 [00:02<00:00, 46.22it/s]\n",
            "  0%|          | 0/118 [00:00<?, ?it/s]"
          ],
          "name": "stderr"
        },
        {
          "output_type": "stream",
          "text": [
            "Test set: Accuracy_digit=98.81 Accuracy_Rnum=60.21\n",
            "EPOCH: 22\n"
          ],
          "name": "stdout"
        },
        {
          "output_type": "stream",
          "text": [
            "Loss=2.1126766204833984 Batch_id=117 Accuracy_digit=98.67 Accuracy_Rnum=64.77: 100%|██████████| 118/118 [00:02<00:00, 48.22it/s]\n",
            "  0%|          | 0/118 [00:00<?, ?it/s]"
          ],
          "name": "stderr"
        },
        {
          "output_type": "stream",
          "text": [
            "Test set: Accuracy_digit=98.93 Accuracy_Rnum=60.42\n",
            "EPOCH: 23\n"
          ],
          "name": "stdout"
        },
        {
          "output_type": "stream",
          "text": [
            "Loss=1.877811074256897 Batch_id=117 Accuracy_digit=98.75 Accuracy_Rnum=65.47: 100%|██████████| 118/118 [00:02<00:00, 47.34it/s]\n",
            "  0%|          | 0/118 [00:00<?, ?it/s]"
          ],
          "name": "stderr"
        },
        {
          "output_type": "stream",
          "text": [
            "Test set: Accuracy_digit=98.98 Accuracy_Rnum=64.6\n",
            "EPOCH: 24\n"
          ],
          "name": "stdout"
        },
        {
          "output_type": "stream",
          "text": [
            "Loss=1.9256073236465454 Batch_id=117 Accuracy_digit=98.82 Accuracy_Rnum=64.97: 100%|██████████| 118/118 [00:02<00:00, 48.55it/s]\n",
            "  0%|          | 0/118 [00:00<?, ?it/s]"
          ],
          "name": "stderr"
        },
        {
          "output_type": "stream",
          "text": [
            "Test set: Accuracy_digit=98.9 Accuracy_Rnum=63.81\n",
            "EPOCH: 25\n"
          ],
          "name": "stdout"
        },
        {
          "output_type": "stream",
          "text": [
            "Loss=1.9005597829818726 Batch_id=117 Accuracy_digit=98.78 Accuracy_Rnum=66.18: 100%|██████████| 118/118 [00:02<00:00, 48.81it/s]\n",
            "  0%|          | 0/118 [00:00<?, ?it/s]"
          ],
          "name": "stderr"
        },
        {
          "output_type": "stream",
          "text": [
            "Test set: Accuracy_digit=98.75 Accuracy_Rnum=71.62\n",
            "EPOCH: 26\n"
          ],
          "name": "stdout"
        },
        {
          "output_type": "stream",
          "text": [
            "Loss=2.4631710052490234 Batch_id=117 Accuracy_digit=98.79 Accuracy_Rnum=66.52: 100%|██████████| 118/118 [00:02<00:00, 46.28it/s]\n",
            "  0%|          | 0/118 [00:00<?, ?it/s]"
          ],
          "name": "stderr"
        },
        {
          "output_type": "stream",
          "text": [
            "Test set: Accuracy_digit=99.04 Accuracy_Rnum=71.26\n",
            "EPOCH: 27\n"
          ],
          "name": "stdout"
        },
        {
          "output_type": "stream",
          "text": [
            "Loss=2.0744078159332275 Batch_id=117 Accuracy_digit=98.77 Accuracy_Rnum=65.99: 100%|██████████| 118/118 [00:02<00:00, 46.75it/s]\n",
            "  0%|          | 0/118 [00:00<?, ?it/s]"
          ],
          "name": "stderr"
        },
        {
          "output_type": "stream",
          "text": [
            "Test set: Accuracy_digit=99.07 Accuracy_Rnum=80.19\n",
            "EPOCH: 28\n"
          ],
          "name": "stdout"
        },
        {
          "output_type": "stream",
          "text": [
            "Loss=2.054520845413208 Batch_id=117 Accuracy_digit=98.83 Accuracy_Rnum=67.72: 100%|██████████| 118/118 [00:02<00:00, 48.14it/s]\n",
            "  0%|          | 0/118 [00:00<?, ?it/s]"
          ],
          "name": "stderr"
        },
        {
          "output_type": "stream",
          "text": [
            "Test set: Accuracy_digit=98.85 Accuracy_Rnum=66.63\n",
            "EPOCH: 29\n"
          ],
          "name": "stdout"
        },
        {
          "output_type": "stream",
          "text": [
            "Loss=1.7168859243392944 Batch_id=117 Accuracy_digit=98.81 Accuracy_Rnum=70.15: 100%|██████████| 118/118 [00:02<00:00, 47.00it/s]\n",
            "  0%|          | 0/118 [00:00<?, ?it/s]"
          ],
          "name": "stderr"
        },
        {
          "output_type": "stream",
          "text": [
            "Test set: Accuracy_digit=99.09 Accuracy_Rnum=71.58\n",
            "EPOCH: 30\n"
          ],
          "name": "stdout"
        },
        {
          "output_type": "stream",
          "text": [
            "Loss=1.747168779373169 Batch_id=117 Accuracy_digit=98.80 Accuracy_Rnum=68.05: 100%|██████████| 118/118 [00:02<00:00, 48.79it/s]\n",
            "  0%|          | 0/118 [00:00<?, ?it/s]"
          ],
          "name": "stderr"
        },
        {
          "output_type": "stream",
          "text": [
            "Test set: Accuracy_digit=98.89 Accuracy_Rnum=80.03\n",
            "EPOCH: 31\n"
          ],
          "name": "stdout"
        },
        {
          "output_type": "stream",
          "text": [
            "Loss=2.0606942176818848 Batch_id=117 Accuracy_digit=98.89 Accuracy_Rnum=70.48: 100%|██████████| 118/118 [00:02<00:00, 48.09it/s]\n",
            "  0%|          | 0/118 [00:00<?, ?it/s]"
          ],
          "name": "stderr"
        },
        {
          "output_type": "stream",
          "text": [
            "Test set: Accuracy_digit=98.82 Accuracy_Rnum=70.24\n",
            "EPOCH: 32\n"
          ],
          "name": "stdout"
        },
        {
          "output_type": "stream",
          "text": [
            "Loss=1.7998100519180298 Batch_id=117 Accuracy_digit=98.79 Accuracy_Rnum=69.76: 100%|██████████| 118/118 [00:02<00:00, 47.71it/s]\n",
            "  0%|          | 0/118 [00:00<?, ?it/s]"
          ],
          "name": "stderr"
        },
        {
          "output_type": "stream",
          "text": [
            "Test set: Accuracy_digit=99.07 Accuracy_Rnum=72.67\n",
            "EPOCH: 33\n"
          ],
          "name": "stdout"
        },
        {
          "output_type": "stream",
          "text": [
            "Loss=1.7867319583892822 Batch_id=117 Accuracy_digit=98.88 Accuracy_Rnum=70.33: 100%|██████████| 118/118 [00:02<00:00, 44.68it/s]\n",
            "  0%|          | 0/118 [00:00<?, ?it/s]"
          ],
          "name": "stderr"
        },
        {
          "output_type": "stream",
          "text": [
            "Test set: Accuracy_digit=98.72 Accuracy_Rnum=78.54\n",
            "EPOCH: 34\n"
          ],
          "name": "stdout"
        },
        {
          "output_type": "stream",
          "text": [
            "Loss=1.7453241348266602 Batch_id=117 Accuracy_digit=98.85 Accuracy_Rnum=70.61: 100%|██████████| 118/118 [00:02<00:00, 46.93it/s]\n",
            "  0%|          | 0/118 [00:00<?, ?it/s]"
          ],
          "name": "stderr"
        },
        {
          "output_type": "stream",
          "text": [
            "Test set: Accuracy_digit=98.95 Accuracy_Rnum=71.75\n",
            "EPOCH: 35\n"
          ],
          "name": "stdout"
        },
        {
          "output_type": "stream",
          "text": [
            "Loss=2.341519594192505 Batch_id=117 Accuracy_digit=98.90 Accuracy_Rnum=71.32: 100%|██████████| 118/118 [00:02<00:00, 46.05it/s]\n",
            "  0%|          | 0/118 [00:00<?, ?it/s]"
          ],
          "name": "stderr"
        },
        {
          "output_type": "stream",
          "text": [
            "Test set: Accuracy_digit=98.89 Accuracy_Rnum=73.8\n",
            "EPOCH: 36\n"
          ],
          "name": "stdout"
        },
        {
          "output_type": "stream",
          "text": [
            "Loss=1.8040902614593506 Batch_id=117 Accuracy_digit=98.91 Accuracy_Rnum=70.98: 100%|██████████| 118/118 [00:02<00:00, 47.09it/s]\n",
            "  0%|          | 0/118 [00:00<?, ?it/s]"
          ],
          "name": "stderr"
        },
        {
          "output_type": "stream",
          "text": [
            "Test set: Accuracy_digit=98.97 Accuracy_Rnum=74.59\n",
            "EPOCH: 37\n"
          ],
          "name": "stdout"
        },
        {
          "output_type": "stream",
          "text": [
            "Loss=2.104311227798462 Batch_id=117 Accuracy_digit=98.93 Accuracy_Rnum=72.68: 100%|██████████| 118/118 [00:02<00:00, 46.32it/s]\n",
            "  0%|          | 0/118 [00:00<?, ?it/s]"
          ],
          "name": "stderr"
        },
        {
          "output_type": "stream",
          "text": [
            "Test set: Accuracy_digit=98.73 Accuracy_Rnum=77.68\n",
            "EPOCH: 38\n"
          ],
          "name": "stdout"
        },
        {
          "output_type": "stream",
          "text": [
            "Loss=1.620760440826416 Batch_id=117 Accuracy_digit=98.89 Accuracy_Rnum=73.01: 100%|██████████| 118/118 [00:02<00:00, 47.87it/s]\n",
            "  0%|          | 0/118 [00:00<?, ?it/s]"
          ],
          "name": "stderr"
        },
        {
          "output_type": "stream",
          "text": [
            "Test set: Accuracy_digit=99.02 Accuracy_Rnum=73.26\n",
            "EPOCH: 39\n"
          ],
          "name": "stdout"
        },
        {
          "output_type": "stream",
          "text": [
            "Loss=2.251408338546753 Batch_id=117 Accuracy_digit=98.83 Accuracy_Rnum=72.36: 100%|██████████| 118/118 [00:02<00:00, 45.97it/s]\n",
            "  0%|          | 0/118 [00:00<?, ?it/s]"
          ],
          "name": "stderr"
        },
        {
          "output_type": "stream",
          "text": [
            "Test set: Accuracy_digit=99.08 Accuracy_Rnum=81.25\n",
            "EPOCH: 40\n"
          ],
          "name": "stdout"
        },
        {
          "output_type": "stream",
          "text": [
            "Loss=1.6036893129348755 Batch_id=117 Accuracy_digit=98.86 Accuracy_Rnum=73.24: 100%|██████████| 118/118 [00:02<00:00, 45.06it/s]\n",
            "  0%|          | 0/118 [00:00<?, ?it/s]"
          ],
          "name": "stderr"
        },
        {
          "output_type": "stream",
          "text": [
            "Test set: Accuracy_digit=98.96 Accuracy_Rnum=65.07\n",
            "EPOCH: 41\n"
          ],
          "name": "stdout"
        },
        {
          "output_type": "stream",
          "text": [
            "Loss=1.7397527694702148 Batch_id=117 Accuracy_digit=98.92 Accuracy_Rnum=71.75: 100%|██████████| 118/118 [00:02<00:00, 45.54it/s]\n",
            "  0%|          | 0/118 [00:00<?, ?it/s]"
          ],
          "name": "stderr"
        },
        {
          "output_type": "stream",
          "text": [
            "Test set: Accuracy_digit=98.89 Accuracy_Rnum=73.13\n",
            "EPOCH: 42\n"
          ],
          "name": "stdout"
        },
        {
          "output_type": "stream",
          "text": [
            "Loss=1.8494452238082886 Batch_id=117 Accuracy_digit=98.90 Accuracy_Rnum=72.45: 100%|██████████| 118/118 [00:02<00:00, 46.72it/s]\n",
            "  0%|          | 0/118 [00:00<?, ?it/s]"
          ],
          "name": "stderr"
        },
        {
          "output_type": "stream",
          "text": [
            "Test set: Accuracy_digit=98.88 Accuracy_Rnum=77.88\n",
            "EPOCH: 43\n"
          ],
          "name": "stdout"
        },
        {
          "output_type": "stream",
          "text": [
            "Loss=1.6829215288162231 Batch_id=117 Accuracy_digit=98.86 Accuracy_Rnum=73.11: 100%|██████████| 118/118 [00:02<00:00, 46.15it/s]\n",
            "  0%|          | 0/118 [00:00<?, ?it/s]"
          ],
          "name": "stderr"
        },
        {
          "output_type": "stream",
          "text": [
            "Test set: Accuracy_digit=99.17 Accuracy_Rnum=72.04\n",
            "EPOCH: 44\n"
          ],
          "name": "stdout"
        },
        {
          "output_type": "stream",
          "text": [
            "Loss=1.6896779537200928 Batch_id=117 Accuracy_digit=98.94 Accuracy_Rnum=73.27: 100%|██████████| 118/118 [00:02<00:00, 46.08it/s]\n",
            "  0%|          | 0/118 [00:00<?, ?it/s]"
          ],
          "name": "stderr"
        },
        {
          "output_type": "stream",
          "text": [
            "Test set: Accuracy_digit=98.99 Accuracy_Rnum=73.29\n",
            "EPOCH: 45\n"
          ],
          "name": "stdout"
        },
        {
          "output_type": "stream",
          "text": [
            "Loss=2.1223502159118652 Batch_id=117 Accuracy_digit=98.96 Accuracy_Rnum=73.66: 100%|██████████| 118/118 [00:02<00:00, 47.79it/s]\n",
            "  0%|          | 0/118 [00:00<?, ?it/s]"
          ],
          "name": "stderr"
        },
        {
          "output_type": "stream",
          "text": [
            "Test set: Accuracy_digit=98.97 Accuracy_Rnum=81.57\n",
            "EPOCH: 46\n"
          ],
          "name": "stdout"
        },
        {
          "output_type": "stream",
          "text": [
            "Loss=2.58727765083313 Batch_id=117 Accuracy_digit=98.88 Accuracy_Rnum=73.28: 100%|██████████| 118/118 [00:02<00:00, 43.88it/s]\n",
            "  0%|          | 0/118 [00:00<?, ?it/s]"
          ],
          "name": "stderr"
        },
        {
          "output_type": "stream",
          "text": [
            "Test set: Accuracy_digit=99.05 Accuracy_Rnum=61.55\n",
            "EPOCH: 47\n"
          ],
          "name": "stdout"
        },
        {
          "output_type": "stream",
          "text": [
            "Loss=1.618734359741211 Batch_id=117 Accuracy_digit=98.89 Accuracy_Rnum=71.53: 100%|██████████| 118/118 [00:02<00:00, 43.54it/s]\n",
            "  0%|          | 0/118 [00:00<?, ?it/s]"
          ],
          "name": "stderr"
        },
        {
          "output_type": "stream",
          "text": [
            "Test set: Accuracy_digit=98.94 Accuracy_Rnum=83.19\n",
            "EPOCH: 48\n"
          ],
          "name": "stdout"
        },
        {
          "output_type": "stream",
          "text": [
            "Loss=1.6175841093063354 Batch_id=117 Accuracy_digit=98.94 Accuracy_Rnum=74.06: 100%|██████████| 118/118 [00:02<00:00, 46.34it/s]\n",
            "  0%|          | 0/118 [00:00<?, ?it/s]"
          ],
          "name": "stderr"
        },
        {
          "output_type": "stream",
          "text": [
            "Test set: Accuracy_digit=98.98 Accuracy_Rnum=81.86\n",
            "EPOCH: 49\n"
          ],
          "name": "stdout"
        },
        {
          "output_type": "stream",
          "text": [
            "Loss=1.6180648803710938 Batch_id=117 Accuracy_digit=98.96 Accuracy_Rnum=75.90: 100%|██████████| 118/118 [00:02<00:00, 46.37it/s]\n"
          ],
          "name": "stderr"
        },
        {
          "output_type": "stream",
          "text": [
            "Test set: Accuracy_digit=98.98 Accuracy_Rnum=86.6\n"
          ],
          "name": "stdout"
        }
      ]
    },
    {
      "cell_type": "code",
      "metadata": {
        "colab": {
          "base_uri": "https://localhost:8080/",
          "height": 624
        },
        "id": "ek0KdRQPASHs",
        "outputId": "63d13640-87df-4545-92ad-78e4dcc999b5"
      },
      "source": [
        "%matplotlib inline\n",
        "import matplotlib.pyplot as plt\n",
        "\n",
        "fig, axs = plt.subplots(2,2,figsize=(15,10))\n",
        "\n",
        "axs[0, 0].plot(train_acc['Image'][:])\n",
        "axs[0, 0].set_title(\"Training - Image\")\n",
        "axs[0, 1].plot(train_acc['RandomNumber'][:])\n",
        "axs[0, 1].set_title(\"Training - Random Number Model\")\n",
        "axs[1, 0].plot(test_acc['Image'][:])\n",
        "axs[1, 0].set_title(\"Test - Image\")\n",
        "axs[1, 1].plot(test_acc['RandomNumber'][:])\n",
        "axs[1, 1].set_title(\"Test - Random Number Model\")"
      ],
      "execution_count": 20,
      "outputs": [
        {
          "output_type": "execute_result",
          "data": {
            "text/plain": [
              "Text(0.5, 1.0, 'Test - Random Number Model')"
            ]
          },
          "metadata": {
            "tags": []
          },
          "execution_count": 20
        },
        {
          "output_type": "display_data",
          "data": {
            "image/png": "[encoded data removed]",
            "text/plain": [
              "<Figure size 1080x720 with 4 Axes>"
            ]
          },
          "metadata": {
            "tags": [],
            "needs_background": "light"
          }
        }
      ]
    },
    {
      "cell_type": "code",
      "metadata": {
        "id": "6RLTnoVnU4u6"
      },
      "source": [
        ""
      ],
      "execution_count": 20,
      "outputs": []
    }
  ]
}