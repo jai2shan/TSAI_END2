{
  "nbformat": 4,
  "nbformat_minor": 0,
  "metadata": {
    "colab": {
      "name": "Session 3 - Pytorch.ipynb",
      "provenance": [],
      "include_colab_link": true
    },
    "kernelspec": {
      "name": "python3",
      "display_name": "Python 3"
    },
    "language_info": {
      "name": "python"
    },
    "accelerator": "GPU"
  },
  "cells": [
    {
      "cell_type": "markdown",
      "metadata": {
        "id": "view-in-github",
        "colab_type": "text"
      },
      "source": [
        "<a href=\"https://colab.research.google.com/github/jai2shan/TSAI_END2/blob/main/Session%203/Session_3_Pytorch.ipynb\" target=\"_parent\"><img src=\"https://colab.research.google.com/assets/colab-badge.svg\" alt=\"Open In Colab\"/></a>"
      ]
    },
    {
      "cell_type": "code",
      "metadata": {
        "colab": {
          "base_uri": "https://localhost:8080/"
        },
        "id": "PQNZgS2HqVgu",
        "outputId": "fce2e8ab-13bd-475c-d69d-c9b7bceb9a0a"
      },
      "source": [
        "from torchvision import datasets\n",
        "datasets.MNIST('data', download=True)"
      ],
      "execution_count": 1,
      "outputs": [
        {
          "output_type": "execute_result",
          "data": {
            "text/plain": [
              "Dataset MNIST\n",
              "    Number of datapoints: 60000\n",
              "    Root location: data\n",
              "    Split: Train"
            ]
          },
          "metadata": {
            "tags": []
          },
          "execution_count": 1
        }
      ]
    },
    {
      "cell_type": "code",
      "metadata": {
        "id": "wp73hOBzqmVf"
      },
      "source": [
        "\n",
        "# import torch\n",
        "# train = torch.load(\"/content/data/MNIST/processed/training.pt\")\n",
        "# randInt = torch.randint(0,9,(60000,))\n",
        "\n",
        "# import torch\n",
        "# from torch.utils.data import DataLoader\n",
        "\n",
        "# class CustomLoader_MNIST(DataLoader):\n",
        "#     def __init__(self,pt_path):\n",
        "#         self.path = pt_path\n",
        "#         self.data = torch.load(self.path)\n",
        "        \n",
        "\n",
        "#     def __getitem__(self, index):\n",
        "#       print(self.data)\n",
        "#       r = self.data.iloc[index]\n",
        "#       randInt = torch.randint(0,9,(r.shape[0],))\n",
        "\n",
        "#       image, label = r\n",
        "#       output = torch.cat((label.reshape(len(label),-1),\n",
        "#                           (label + randInt).reshape(len(label),-1)),\n",
        "#                          dim = 1)\n",
        "#       x = torch.empty(size=(len(randInt), 28,28))\n",
        "#       for i in range(len(randInt)):\n",
        "#           x[i] = randInt[i]*torch.ones(28,28)\n",
        "          \n",
        "#       input = torch.cat((image, x),dim = 1)\n",
        "#       return output, input\n",
        "\n",
        "#     def __len__(self):\n",
        "#       return len(self.data)\n",
        "\n",
        "# train_data = CustomLoader_MNIST(\"/content/data/MNIST/processed/training.pt\")\n",
        "# test_data = CustomLoader_MNIST(\"/content/data/MNIST/processed/test.pt\")"
      ],
      "execution_count": 2,
      "outputs": []
    },
    {
      "cell_type": "code",
      "metadata": {
        "id": "dSFcGVusACB7"
      },
      "source": [
        "import torch\n",
        "train = torch.load(\"/content/data/MNIST/processed/training.pt\")\n",
        "randInt = torch.randint(0,9,(60000,))\n",
        "\n",
        "import torch\n",
        "from torch.utils.data import DataLoader\n",
        "\n",
        "class CustomLoader_MNIST(DataLoader):\n",
        "    def __init__(self,pt_path):\n",
        "        self.path = pt_path\n",
        "        self.data = torch.load(self.path)\n",
        "        \n",
        "\n",
        "    def __getitem__(self, idx):\n",
        "      if torch.is_tensor(idx):\n",
        "        idx = idx.tolist()\n",
        "\n",
        "      image, label = self.data[0][idx], self.data[1][idx] \n",
        "\n",
        "      randInt = torch.randint(0,9,(1,))\n",
        "      x1, x2, y1, y2 = image.reshape(1,28,28), randInt, label, label + randInt[0]\n",
        "\n",
        "      return x1, x2, y1, y2\n",
        "\n",
        "    def __len__(self):\n",
        "      return len(self.data[0])\n",
        "\n",
        "train_data = CustomLoader_MNIST(\"/content/data/MNIST/processed/training.pt\")\n",
        "test_data = CustomLoader_MNIST(\"/content/data/MNIST/processed/test.pt\")"
      ],
      "execution_count": 3,
      "outputs": []
    },
    {
      "cell_type": "code",
      "metadata": {
        "id": "ujUQfPZvAIXC"
      },
      "source": [
        ""
      ],
      "execution_count": 3,
      "outputs": []
    },
    {
      "cell_type": "code",
      "metadata": {
        "id": "tXnBR2bm5fwH"
      },
      "source": [
        "torch.manual_seed(1)\n",
        "batch_size = 512\n",
        "use_cuda = torch.cuda.is_available()\n",
        "\n",
        "kwargs = {'num_workers': 1, 'pin_memory': True} if use_cuda else {}\n",
        "train_loader = torch.utils.data.DataLoader(train_data, batch_size=batch_size, shuffle=True, **kwargs)\n",
        "test_loader = torch.utils.data.DataLoader(test_data, batch_size=batch_size, shuffle=True, **kwargs)"
      ],
      "execution_count": 4,
      "outputs": []
    },
    {
      "cell_type": "code",
      "metadata": {
        "id": "5OpyMhcyIzpH",
        "colab": {
          "base_uri": "https://localhost:8080/"
        },
        "outputId": "4f144cdc-6d76-4514-db40-d69e4ed568cb"
      },
      "source": [
        "from tqdm import tqdm\n",
        "pbar = tqdm(train_loader)\n",
        "device = torch.device(\"cuda\" if use_cuda else \"cpu\")\n",
        "for batch_idx, (x1, x2, y1, y2) in enumerate(pbar):\n",
        "    x1, x2, y1, y2 = x1.to(device), x2.to(device), y1.to(device), y2.to(device)\n",
        "    pbar.set_description(desc= f'batch_id={batch_idx}')"
      ],
      "execution_count": 5,
      "outputs": [
        {
          "output_type": "stream",
          "text": [
            "batch_id=117: 100%|██████████| 118/118 [00:03<00:00, 29.54it/s]\n"
          ],
          "name": "stderr"
        }
      ]
    },
    {
      "cell_type": "code",
      "metadata": {
        "id": "ea6wQjL5IIue"
      },
      "source": [
        "import torch.nn.functional as F\n",
        "import torch.nn as nn\n",
        "dropout_value = 0.1\n",
        "\n",
        "class Net(nn.Module):\n",
        "    def __init__(self):\n",
        "        super(Net, self).__init__()\n",
        "        # Input Block\n",
        "        self.convblock1 = nn.Sequential(\n",
        "            nn.Conv2d(in_channels=1, out_channels=8, kernel_size=(3, 3), padding=0, bias=False),\n",
        "            nn.ReLU(),\n",
        "            nn.BatchNorm2d(8),\n",
        "            nn.Dropout(dropout_value)\n",
        "        ) # output_size = 26\n",
        "\n",
        "        # CONVOLUTION BLOCK 1\n",
        "        self.convblock2 = nn.Sequential(\n",
        "            nn.Conv2d(in_channels=8, out_channels=16, kernel_size=(3, 3), padding=0, bias=False),\n",
        "            nn.ReLU(),\n",
        "            nn.BatchNorm2d(16),\n",
        "            nn.Dropout(dropout_value)\n",
        "        ) # output_size = 24\n",
        "\n",
        "        # TRANSITION BLOCK 1\n",
        "        self.convblock3 = nn.Sequential(\n",
        "            nn.Conv2d(in_channels=16, out_channels=8, kernel_size=(1, 1), padding=0, bias=False),\n",
        "        ) # output_size = 24\n",
        "        self.pool1 = nn.MaxPool2d(2, 2) # output_size = 12\n",
        "\n",
        "        # CONVOLUTION BLOCK 2\n",
        "        self.convblock4 = nn.Sequential(\n",
        "            nn.Conv2d(in_channels=8, out_channels=16, kernel_size=(3, 3), padding=0, bias=False),\n",
        "            nn.ReLU(),            \n",
        "            nn.BatchNorm2d(16),\n",
        "            nn.Dropout(dropout_value)\n",
        "        ) # output_size = 10\n",
        "        self.convblock5 = nn.Sequential(\n",
        "            nn.Conv2d(in_channels=16, out_channels=16, kernel_size=(3, 3), padding=0, bias=False),\n",
        "            nn.ReLU(),            \n",
        "            nn.BatchNorm2d(16),\n",
        "            nn.Dropout(dropout_value)\n",
        "        ) # output_size = 8\n",
        "        self.convblock6 = nn.Sequential(\n",
        "            nn.Conv2d(in_channels=16, out_channels=16, kernel_size=(3, 3), padding=0, bias=False),\n",
        "            nn.ReLU(),            \n",
        "            nn.BatchNorm2d(16),\n",
        "            nn.Dropout(dropout_value)\n",
        "        ) # output_size = 6\n",
        "        self.convblock7 = nn.Sequential(\n",
        "            nn.Conv2d(in_channels=16, out_channels=16, kernel_size=(3, 3), padding=1, bias=False),\n",
        "            nn.ReLU(),            \n",
        "            nn.BatchNorm2d(16),\n",
        "            nn.Dropout(dropout_value)\n",
        "        ) # output_size = 6\n",
        "        \n",
        "        # OUTPUT BLOCK\n",
        "        self.gap = nn.Sequential(\n",
        "            nn.AvgPool2d(kernel_size=6)\n",
        "        ) # output_size = 1\n",
        "\n",
        "        self.convblock8 = nn.Sequential(\n",
        "            nn.Conv2d(in_channels=16, out_channels=10, kernel_size=(1, 1), padding=0, bias=False),\n",
        "            # nn.BatchNorm2d(10),\n",
        "            # nn.ReLU(),\n",
        "            # nn.Dropout(dropout_value)\n",
        "        ) \n",
        "\n",
        "        self.dropout = nn.Dropout(dropout_value)\n",
        "        # self.relu = nn.ReLU()\n",
        "        self.ln1 = nn.Linear(11,18)\n",
        "\n",
        "    def forward(self, img, rnum):        \n",
        "        img = self.convblock1(img)\n",
        "        img = self.convblock2(img)\n",
        "        img = self.convblock3(img)\n",
        "        img = self.pool1(img)\n",
        "        img = self.convblock4(img)\n",
        "        img = self.convblock5(img)\n",
        "        img = self.convblock6(img)\n",
        "        img = self.convblock7(img)\n",
        "        img = self.gap(img)        \n",
        "        img = self.convblock8(img)\n",
        "        \n",
        "        img = img.view(-1, 10)\n",
        "        rnum = torch.cat((img, rnum), dim=1)\n",
        "        rnum = self.ln1(rnum)\n",
        "\n",
        "        return F.log_softmax(img, dim=-1), F.log_softmax(rnum, dim=-1)"
      ],
      "execution_count": 6,
      "outputs": []
    },
    {
      "cell_type": "code",
      "metadata": {
        "id": "SdwQvMu7KXGC",
        "colab": {
          "base_uri": "https://localhost:8080/"
        },
        "outputId": "a7ae37e5-5afa-4815-fd54-5fe4ffd6a099"
      },
      "source": [
        "from torchsummary import summary\n",
        "use_cuda = torch.cuda.is_available()\n",
        "device = torch.device(\"cuda\" if use_cuda else \"cpu\")\n",
        "print(device)\n",
        "model = Net().to(device)\n",
        "# summary(model, input_size=((1, 28, 28),1))"
      ],
      "execution_count": 7,
      "outputs": [
        {
          "output_type": "stream",
          "text": [
            "cuda\n"
          ],
          "name": "stdout"
        }
      ]
    },
    {
      "cell_type": "code",
      "metadata": {
        "id": "EEm0ZH3wKz08"
      },
      "source": [
        "from tqdm import tqdm\n",
        "\n",
        "train_losses = []\n",
        "test_losses =  []\n",
        "train_acc =  {'Image': [], 'RandomNumber': []}\n",
        "test_acc = {'Image': [], 'RandomNumber': []}\n",
        "\n",
        "\n",
        "def train(model, device, train_loader, optimizer, epoch):\n",
        "\n",
        "  model.train()\n",
        "  pbar = tqdm(train_loader)\n",
        "  correct1 = 0\n",
        "  processed = 0\n",
        "  correct2 = 0\n",
        "\n",
        "  for batch_idx, (x1, x2, y1, y2) in enumerate(pbar):\n",
        "    # Data\n",
        "    x1, x2, y1, y2 = x1.float().to(device), x2.float().to(device), y1.to(device), y2.to(device)\n",
        "    # Init\n",
        "    \n",
        "    optimizer.zero_grad()\n",
        "    # In PyTorch, we need to set the gradients to zero before starting to do backpropragation because PyTorch accumulates the gradients on subsequent backward passes. \n",
        "    # Because of this, when you start your training loop, ideally you should zero out the gradients so that you do the parameter update correctly.\n",
        "\n",
        "    # Predict\n",
        "\n",
        "    y1_pred, y2_pred = model(x1, x2)\n",
        "\n",
        "    # Calculate loss\n",
        "    loss1 = F.nll_loss(y1_pred, y1)\n",
        "    loss2 = F.nll_loss(y2_pred, y2)\n",
        "    loss =  torch.add(loss1, loss2)\n",
        "    train_losses.append(loss)\n",
        "\n",
        "    # Backpropagation\n",
        "    loss.backward()\n",
        "    optimizer.step()\n",
        "\n",
        "    # Update pbar-tqdm\n",
        "    \n",
        "    pred1 = y1_pred.argmax(dim=1, keepdim=True)\n",
        "    pred2 = y2_pred.argmax(dim=1, keepdim=True)\n",
        "    \n",
        "    # get the index of the max log-probability\n",
        "    correct1 += pred1.eq(y1.view_as(pred1)).sum().item()\n",
        "    correct2 += pred2.eq(y2.view_as(pred2)).sum().item()\n",
        "    processed += len(x1)\n",
        "\n",
        "    pbar.set_description(desc= f'Loss={loss.item()} Batch_id={batch_idx} Accuracy_digit={100*correct1/processed:0.2f} Accuracy_Rnum={100*correct2/processed:0.2f}')\n",
        "    train_acc['Image'].append(100*correct1/processed)\n",
        "    train_acc['RandomNumber'].append(100*correct2/processed)\n",
        "\n",
        "def test(model, device, test_loader):\n",
        "    model.eval()\n",
        "    correct1 = 0\n",
        "    correct2 = 0\n",
        "    with torch.no_grad():\n",
        "        for x1, x2, y1, y2 in test_loader:\n",
        "            x1, x2, y1, y2 = x1.float().to(device), x2.float().to(device), y1.to(device), y2.to(device)\n",
        "            y1_pred, y2_pred = model(x1, x2)\n",
        "            \n",
        "            pred1 = y1_pred.argmax(dim=1, keepdim=True)\n",
        "            pred2 = y2_pred.argmax(dim=1, keepdim=True)\n",
        "            correct1 += pred1.eq(y1.view_as(pred1)).sum().item()\n",
        "            correct2 += pred2.eq(y2.view_as(pred2)).sum().item()\n",
        "\n",
        "    print('Test set: Accuracy_digit={} Accuracy_Rnum={}'.format(100*correct1/len(test_loader.dataset),100*correct2/len(test_loader.dataset)))\n",
        "    test_acc['Image'].append(100*correct1/len(test_loader.dataset))\n",
        "    test_acc['RandomNumber'].append(100*correct2/len(test_loader.dataset))"
      ],
      "execution_count": 16,
      "outputs": []
    },
    {
      "cell_type": "code",
      "metadata": {
        "id": "XfLy2ms8Uby2",
        "colab": {
          "base_uri": "https://localhost:8080/"
        },
        "outputId": "5141793e-9880-4591-c6fd-c6c5d69e10ab"
      },
      "source": [
        "from torch.optim.lr_scheduler import StepLR\n",
        "import torch.optim as optim\n",
        "\n",
        "model =  Net().to(device)\n",
        "optimizer = optim.SGD(model.parameters(), lr=0.01)\n",
        "\n",
        "EPOCHS = 20\n",
        "for epoch in range(EPOCHS):\n",
        "    print(\"EPOCH:\", epoch)\n",
        "    train(model, device, train_loader, optimizer, epoch)\n",
        "    test(model, device, test_loader)"
      ],
      "execution_count": 17,
      "outputs": [
        {
          "output_type": "stream",
          "text": [
            "\r  0%|          | 0/118 [00:00<?, ?it/s]"
          ],
          "name": "stderr"
        },
        {
          "output_type": "stream",
          "text": [
            "EPOCH: 0\n"
          ],
          "name": "stdout"
        },
        {
          "output_type": "stream",
          "text": [
            "Loss=4.697171211242676 Batch_id=117 Accuracy_digit=33.76 Accuracy_Rnum=6.67: 100%|██████████| 118/118 [00:02<00:00, 46.88it/s]\n",
            "  0%|          | 0/118 [00:00<?, ?it/s]"
          ],
          "name": "stderr"
        },
        {
          "output_type": "stream",
          "text": [
            "Test set: Accuracy_digit=47.16 Accuracy_Rnum=7.24\n",
            "EPOCH: 1\n"
          ],
          "name": "stdout"
        },
        {
          "output_type": "stream",
          "text": [
            "Loss=4.325043678283691 Batch_id=117 Accuracy_digit=59.46 Accuracy_Rnum=9.27: 100%|██████████| 118/118 [00:02<00:00, 47.27it/s]\n",
            "  0%|          | 0/118 [00:00<?, ?it/s]"
          ],
          "name": "stderr"
        },
        {
          "output_type": "stream",
          "text": [
            "Test set: Accuracy_digit=67.31 Accuracy_Rnum=9.57\n",
            "EPOCH: 2\n"
          ],
          "name": "stdout"
        },
        {
          "output_type": "stream",
          "text": [
            "Loss=4.020139217376709 Batch_id=117 Accuracy_digit=69.80 Accuracy_Rnum=9.72: 100%|██████████| 118/118 [00:02<00:00, 46.96it/s]\n",
            "  0%|          | 0/118 [00:00<?, ?it/s]"
          ],
          "name": "stderr"
        },
        {
          "output_type": "stream",
          "text": [
            "Test set: Accuracy_digit=75.36 Accuracy_Rnum=9.45\n",
            "EPOCH: 3\n"
          ],
          "name": "stdout"
        },
        {
          "output_type": "stream",
          "text": [
            "Loss=3.629375457763672 Batch_id=117 Accuracy_digit=75.97 Accuracy_Rnum=10.31: 100%|██████████| 118/118 [00:02<00:00, 46.15it/s]\n",
            "  0%|          | 0/118 [00:00<?, ?it/s]"
          ],
          "name": "stderr"
        },
        {
          "output_type": "stream",
          "text": [
            "Test set: Accuracy_digit=81.56 Accuracy_Rnum=10.18\n",
            "EPOCH: 4\n"
          ],
          "name": "stdout"
        },
        {
          "output_type": "stream",
          "text": [
            "Loss=3.4709250926971436 Batch_id=117 Accuracy_digit=81.94 Accuracy_Rnum=11.16: 100%|██████████| 118/118 [00:02<00:00, 49.33it/s]\n",
            "  0%|          | 0/118 [00:00<?, ?it/s]"
          ],
          "name": "stderr"
        },
        {
          "output_type": "stream",
          "text": [
            "Test set: Accuracy_digit=86.75 Accuracy_Rnum=13.14\n",
            "EPOCH: 5\n"
          ],
          "name": "stdout"
        },
        {
          "output_type": "stream",
          "text": [
            "Loss=3.3461084365844727 Batch_id=117 Accuracy_digit=87.00 Accuracy_Rnum=13.50: 100%|██████████| 118/118 [00:02<00:00, 46.83it/s]\n",
            "  0%|          | 0/118 [00:00<?, ?it/s]"
          ],
          "name": "stderr"
        },
        {
          "output_type": "stream",
          "text": [
            "Test set: Accuracy_digit=90.97 Accuracy_Rnum=15.66\n",
            "EPOCH: 6\n"
          ],
          "name": "stdout"
        },
        {
          "output_type": "stream",
          "text": [
            "Loss=3.023761749267578 Batch_id=117 Accuracy_digit=90.09 Accuracy_Rnum=15.01: 100%|██████████| 118/118 [00:02<00:00, 46.39it/s]\n",
            "  0%|          | 0/118 [00:00<?, ?it/s]"
          ],
          "name": "stderr"
        },
        {
          "output_type": "stream",
          "text": [
            "Test set: Accuracy_digit=92.7 Accuracy_Rnum=15.73\n",
            "EPOCH: 7\n"
          ],
          "name": "stdout"
        },
        {
          "output_type": "stream",
          "text": [
            "Loss=2.9886481761932373 Batch_id=117 Accuracy_digit=91.84 Accuracy_Rnum=15.99: 100%|██████████| 118/118 [00:02<00:00, 47.01it/s]\n",
            "  0%|          | 0/118 [00:00<?, ?it/s]"
          ],
          "name": "stderr"
        },
        {
          "output_type": "stream",
          "text": [
            "Test set: Accuracy_digit=94.01 Accuracy_Rnum=16.14\n",
            "EPOCH: 8\n"
          ],
          "name": "stdout"
        },
        {
          "output_type": "stream",
          "text": [
            "Loss=2.8885574340820312 Batch_id=117 Accuracy_digit=93.18 Accuracy_Rnum=16.60: 100%|██████████| 118/118 [00:02<00:00, 47.03it/s]\n",
            "  0%|          | 0/118 [00:00<?, ?it/s]"
          ],
          "name": "stderr"
        },
        {
          "output_type": "stream",
          "text": [
            "Test set: Accuracy_digit=94.81 Accuracy_Rnum=16.81\n",
            "EPOCH: 9\n"
          ],
          "name": "stdout"
        },
        {
          "output_type": "stream",
          "text": [
            "Loss=2.8330345153808594 Batch_id=117 Accuracy_digit=93.85 Accuracy_Rnum=17.73: 100%|██████████| 118/118 [00:02<00:00, 46.95it/s]\n",
            "  0%|          | 0/118 [00:00<?, ?it/s]"
          ],
          "name": "stderr"
        },
        {
          "output_type": "stream",
          "text": [
            "Test set: Accuracy_digit=95.06 Accuracy_Rnum=17.14\n",
            "EPOCH: 10\n"
          ],
          "name": "stdout"
        },
        {
          "output_type": "stream",
          "text": [
            "Loss=2.481201171875 Batch_id=117 Accuracy_digit=94.48 Accuracy_Rnum=18.47: 100%|██████████| 118/118 [00:02<00:00, 44.86it/s]\n",
            "  0%|          | 0/118 [00:00<?, ?it/s]"
          ],
          "name": "stderr"
        },
        {
          "output_type": "stream",
          "text": [
            "Test set: Accuracy_digit=95.82 Accuracy_Rnum=18.58\n",
            "EPOCH: 11\n"
          ],
          "name": "stdout"
        },
        {
          "output_type": "stream",
          "text": [
            "Loss=2.576643228530884 Batch_id=117 Accuracy_digit=94.96 Accuracy_Rnum=18.98: 100%|██████████| 118/118 [00:02<00:00, 47.83it/s]\n",
            "  0%|          | 0/118 [00:00<?, ?it/s]"
          ],
          "name": "stderr"
        },
        {
          "output_type": "stream",
          "text": [
            "Test set: Accuracy_digit=96.23 Accuracy_Rnum=18.67\n",
            "EPOCH: 12\n"
          ],
          "name": "stdout"
        },
        {
          "output_type": "stream",
          "text": [
            "Loss=2.678710460662842 Batch_id=117 Accuracy_digit=95.38 Accuracy_Rnum=19.71: 100%|██████████| 118/118 [00:02<00:00, 46.00it/s]\n",
            "  0%|          | 0/118 [00:00<?, ?it/s]"
          ],
          "name": "stderr"
        },
        {
          "output_type": "stream",
          "text": [
            "Test set: Accuracy_digit=96.08 Accuracy_Rnum=20.07\n",
            "EPOCH: 13\n"
          ],
          "name": "stdout"
        },
        {
          "output_type": "stream",
          "text": [
            "Loss=2.491027355194092 Batch_id=117 Accuracy_digit=95.65 Accuracy_Rnum=19.95: 100%|██████████| 118/118 [00:02<00:00, 45.76it/s]\n",
            "  0%|          | 0/118 [00:00<?, ?it/s]"
          ],
          "name": "stderr"
        },
        {
          "output_type": "stream",
          "text": [
            "Test set: Accuracy_digit=96.51 Accuracy_Rnum=19.45\n",
            "EPOCH: 14\n"
          ],
          "name": "stdout"
        },
        {
          "output_type": "stream",
          "text": [
            "Loss=2.4381935596466064 Batch_id=117 Accuracy_digit=95.82 Accuracy_Rnum=20.18: 100%|██████████| 118/118 [00:02<00:00, 44.21it/s]\n",
            "  0%|          | 0/118 [00:00<?, ?it/s]"
          ],
          "name": "stderr"
        },
        {
          "output_type": "stream",
          "text": [
            "Test set: Accuracy_digit=96.06 Accuracy_Rnum=19.91\n",
            "EPOCH: 15\n"
          ],
          "name": "stdout"
        },
        {
          "output_type": "stream",
          "text": [
            "Loss=2.3485517501831055 Batch_id=117 Accuracy_digit=96.05 Accuracy_Rnum=20.74: 100%|██████████| 118/118 [00:02<00:00, 45.22it/s]\n",
            "  0%|          | 0/118 [00:00<?, ?it/s]"
          ],
          "name": "stderr"
        },
        {
          "output_type": "stream",
          "text": [
            "Test set: Accuracy_digit=96.92 Accuracy_Rnum=20.31\n",
            "EPOCH: 16\n"
          ],
          "name": "stdout"
        },
        {
          "output_type": "stream",
          "text": [
            "Loss=2.32167649269104 Batch_id=117 Accuracy_digit=96.25 Accuracy_Rnum=21.27: 100%|██████████| 118/118 [00:02<00:00, 45.96it/s]\n",
            "  0%|          | 0/118 [00:00<?, ?it/s]"
          ],
          "name": "stderr"
        },
        {
          "output_type": "stream",
          "text": [
            "Test set: Accuracy_digit=96.87 Accuracy_Rnum=20.75\n",
            "EPOCH: 17\n"
          ],
          "name": "stdout"
        },
        {
          "output_type": "stream",
          "text": [
            "Loss=2.329238176345825 Batch_id=117 Accuracy_digit=96.48 Accuracy_Rnum=21.95: 100%|██████████| 118/118 [00:02<00:00, 45.62it/s]\n",
            "  0%|          | 0/118 [00:00<?, ?it/s]"
          ],
          "name": "stderr"
        },
        {
          "output_type": "stream",
          "text": [
            "Test set: Accuracy_digit=97.23 Accuracy_Rnum=21.25\n",
            "EPOCH: 18\n"
          ],
          "name": "stdout"
        },
        {
          "output_type": "stream",
          "text": [
            "Loss=2.1718952655792236 Batch_id=117 Accuracy_digit=96.59 Accuracy_Rnum=22.75: 100%|██████████| 118/118 [00:02<00:00, 46.84it/s]\n",
            "  0%|          | 0/118 [00:00<?, ?it/s]"
          ],
          "name": "stderr"
        },
        {
          "output_type": "stream",
          "text": [
            "Test set: Accuracy_digit=96.98 Accuracy_Rnum=22.63\n",
            "EPOCH: 19\n"
          ],
          "name": "stdout"
        },
        {
          "output_type": "stream",
          "text": [
            "Loss=2.3413424491882324 Batch_id=117 Accuracy_digit=96.70 Accuracy_Rnum=23.33: 100%|██████████| 118/118 [00:02<00:00, 43.81it/s]\n"
          ],
          "name": "stderr"
        },
        {
          "output_type": "stream",
          "text": [
            "Test set: Accuracy_digit=97.32 Accuracy_Rnum=22.35\n"
          ],
          "name": "stdout"
        }
      ]
    },
    {
      "cell_type": "code",
      "metadata": {
        "id": "BfL2IsvZU0Bm"
      },
      "source": [
        ""
      ],
      "execution_count": 17,
      "outputs": []
    },
    {
      "cell_type": "code",
      "metadata": {
        "id": "ek0KdRQPASHs"
      },
      "source": [
        ""
      ],
      "execution_count": 10,
      "outputs": []
    }
  ]
}