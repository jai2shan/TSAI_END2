{
  "nbformat": 4,
  "nbformat_minor": 0,
  "metadata": {
    "colab": {
      "name": "Session 3 - Pytorch.ipynb",
      "provenance": [],
      "include_colab_link": true
    },
    "kernelspec": {
      "name": "python3",
      "display_name": "Python 3"
    },
    "language_info": {
      "name": "python"
    },
    "accelerator": "GPU"
  },
  "cells": [
    {
      "cell_type": "markdown",
      "metadata": {
        "id": "view-in-github",
        "colab_type": "text"
      },
      "source": [
        "<a href=\"https://colab.research.google.com/github/jai2shan/TSAI_END2/blob/main/Session%203/Session_3_Pytorch.ipynb\" target=\"_parent\"><img src=\"https://colab.research.google.com/assets/colab-badge.svg\" alt=\"Open In Colab\"/></a>"
      ]
    },
    {
      "cell_type": "code",
      "metadata": {
        "colab": {
          "base_uri": "https://localhost:8080/"
        },
        "id": "PQNZgS2HqVgu",
        "outputId": "ec30c982-55f4-4c86-e6aa-5d7937dc0bf4"
      },
      "source": [
        "from torchvision import datasets\n",
        "datasets.MNIST('data', download=True)"
      ],
      "execution_count": 1,
      "outputs": [
        {
          "output_type": "execute_result",
          "data": {
            "text/plain": [
              "Dataset MNIST\n",
              "    Number of datapoints: 60000\n",
              "    Root location: data\n",
              "    Split: Train"
            ]
          },
          "metadata": {
            "tags": []
          },
          "execution_count": 1
        }
      ]
    },
    {
      "cell_type": "code",
      "metadata": {
        "id": "wp73hOBzqmVf"
      },
      "source": [
        "\n",
        "# import torch\n",
        "# train = torch.load(\"/content/data/MNIST/processed/training.pt\")\n",
        "# randInt = torch.randint(0,9,(60000,))\n",
        "\n",
        "# import torch\n",
        "# from torch.utils.data import DataLoader\n",
        "\n",
        "# class CustomLoader_MNIST(DataLoader):\n",
        "#     def __init__(self,pt_path):\n",
        "#         self.path = pt_path\n",
        "#         self.data = torch.load(self.path)\n",
        "        \n",
        "\n",
        "#     def __getitem__(self, index):\n",
        "#       print(self.data)\n",
        "#       r = self.data.iloc[index]\n",
        "#       randInt = torch.randint(0,9,(r.shape[0],))\n",
        "\n",
        "#       image, label = r\n",
        "#       output = torch.cat((label.reshape(len(label),-1),\n",
        "#                           (label + randInt).reshape(len(label),-1)),\n",
        "#                          dim = 1)\n",
        "#       x = torch.empty(size=(len(randInt), 28,28))\n",
        "#       for i in range(len(randInt)):\n",
        "#           x[i] = randInt[i]*torch.ones(28,28)\n",
        "          \n",
        "#       input = torch.cat((image, x),dim = 1)\n",
        "#       return output, input\n",
        "\n",
        "#     def __len__(self):\n",
        "#       return len(self.data)\n",
        "\n",
        "# train_data = CustomLoader_MNIST(\"/content/data/MNIST/processed/training.pt\")\n",
        "# test_data = CustomLoader_MNIST(\"/content/data/MNIST/processed/test.pt\")"
      ],
      "execution_count": 2,
      "outputs": []
    },
    {
      "cell_type": "code",
      "metadata": {
        "id": "xgt6p_I0RcRt"
      },
      "source": [
        "import torch\n",
        "train = torch.load(\"/content/data/MNIST/processed/training.pt\")\n",
        "randInt = torch.randint(0,9,(60000,))\n",
        "\n",
        "import torch\n",
        "from torch.utils.data import DataLoader\n",
        "\n",
        "class CustomLoader_MNIST(DataLoader):\n",
        "    def __init__(self,pt_path):\n",
        "        self.path = pt_path\n",
        "        self.data = torch.load(self.path)\n",
        "        \n",
        "\n",
        "    def __getitem__(self, idx):\n",
        "      if torch.is_tensor(idx):\n",
        "        idx = idx.tolist()\n",
        "      \n",
        "      image, label = self.data[0][idx], self.data[1][idx] \n",
        "\n",
        "      randInt = torch.randint(0,9,(1,))\n",
        "      \n",
        "      output = torch.cat((label.reshape(1,-1),\n",
        "                          (label + randInt).reshape(1,-1)),\n",
        "                         dim = 1)\n",
        "      x = torch.empty(size=(1, 28,28))\n",
        "      \n",
        "      x = randInt*torch.ones(28,28)\n",
        "          \n",
        "      input = torch.cat((image, x),dim = 1)\n",
        "      return output, input\n",
        "\n",
        "    def __len__(self):\n",
        "      return len(self.data[0])\n",
        "\n",
        "train_data = CustomLoader_MNIST(\"/content/data/MNIST/processed/training.pt\")\n",
        "test_data = CustomLoader_MNIST(\"/content/data/MNIST/processed/test.pt\")"
      ],
      "execution_count": 3,
      "outputs": []
    },
    {
      "cell_type": "code",
      "metadata": {
        "id": "tXnBR2bm5fwH"
      },
      "source": [
        "torch.manual_seed(1)\n",
        "batch_size = 128\n",
        "use_cuda = torch.cuda.is_available()\n",
        "\n",
        "kwargs = {'num_workers': 1, 'pin_memory': True} if use_cuda else {}\n",
        "train_loader = torch.utils.data.DataLoader(train_data, batch_size=batch_size, shuffle=True, **kwargs)\n",
        "test_loader = torch.utils.data.DataLoader(test_data, batch_size=batch_size, shuffle=True, **kwargs)"
      ],
      "execution_count": 4,
      "outputs": []
    },
    {
      "cell_type": "code",
      "metadata": {
        "id": "5OpyMhcyIzpH",
        "colab": {
          "base_uri": "https://localhost:8080/"
        },
        "outputId": "187cfbcd-9cfa-4e5f-99ca-20c290385585"
      },
      "source": [
        "from tqdm import tqdm\n",
        "pbar = tqdm(train_loader)\n",
        "device = torch.device(\"cuda\" if use_cuda else \"cpu\")\n",
        "for batch_idx, (data, target) in enumerate(pbar):\n",
        "    data, target = data.to(device), target.to(device)\n",
        "    pbar.set_description(desc= f'batch_id={batch_idx}')"
      ],
      "execution_count": 7,
      "outputs": [
        {
          "output_type": "stream",
          "text": [
            "batch_id=468: 100%|██████████| 469/469 [00:05<00:00, 82.13it/s]\n"
          ],
          "name": "stderr"
        }
      ]
    },
    {
      "cell_type": "markdown",
      "metadata": {
        "id": "JDlq2aY8U0l8"
      },
      "source": [
        ""
      ]
    },
    {
      "cell_type": "code",
      "metadata": {
        "id": "yunQXfb2HvPI"
      },
      "source": [
        ""
      ],
      "execution_count": 7,
      "outputs": []
    },
    {
      "cell_type": "code",
      "metadata": {
        "id": "2UlgpOmdH1i6"
      },
      "source": [
        ""
      ],
      "execution_count": null,
      "outputs": []
    }
  ]
}