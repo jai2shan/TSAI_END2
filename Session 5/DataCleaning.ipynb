{
 "cells": [
  {
   "cell_type": "code",
   "execution_count": 1,
   "metadata": {},
   "outputs": [],
   "source": [
    "import os\n",
    "import pandas as pd\n",
    "\n",
    "os.chdir(r'stanfordSentimentTreebank')"
   ]
  },
  {
   "cell_type": "code",
   "execution_count": 2,
   "metadata": {},
   "outputs": [],
   "source": [
    "## Loading reviews\n",
    "sents = pd.read_csv('datasetSentences.txt',sep = \"\\t\")\n",
    "\n",
    "alltog = '.'.join(sents.sentence.str.lower().to_list())\n",
    "sent_chars = set(alltog)"
   ]
  },
  {
   "cell_type": "code",
   "execution_count": 3,
   "metadata": {},
   "outputs": [],
   "source": [
    "## Loading Phrases\n",
    "phrs = pd.read_csv('dictionary.txt', sep = \"|\", header = None, names= ['phrase', 'phrase id'] )\n",
    "phrstog = '.'.join(phrs.phrase.str.lower().to_list())\n",
    "phrs_chars = set(phrstog)"
   ]
  },
  {
   "cell_type": "code",
   "execution_count": 4,
   "metadata": {},
   "outputs": [
    {
     "data": {
      "text/plain": [
       "{'¡', '¢', '£', '¦', '§', '¨', '©', '\\xad', '¯', '±', '³', '´', '¶', '»', '¼'}"
      ]
     },
     "execution_count": 4,
     "metadata": {},
     "output_type": "execute_result"
    }
   ],
   "source": [
    "sent_chars - phrs_chars"
   ]
  },
  {
   "cell_type": "code",
   "execution_count": 5,
   "metadata": {},
   "outputs": [],
   "source": [
    "replacements = {        '-LRB-' : '(',\n",
    "        '-RRB-' : ')',\n",
    "        '\\xa0' : ' ',\n",
    "        '\\xc2' : '',\n",
    "        '\\xc3\\x83\\xc2\\xa0' : 'a',\n",
    "        'à' : 'a',\n",
    "        'Â' : '',\n",
    "        'â' : 'a',\n",
    "        'ã' : 'a',\n",
    "        'Ã¡' : 'a',\n",
    "        'Ã¢' : 'a',\n",
    "        'Ã£' : 'a',\n",
    "        'Ã¦' : 'ae',\n",
    "        'Ã§' : 'c',\n",
    "        'Ã¨' : 'e',\n",
    "        'Ã©' : 'e',\n",
    "        'Ã­' : 'i',\n",
    "        'Ã¯' : 'i',\n",
    "        'Ã±' : 'n',\n",
    "        'Ã³' : 'o',\n",
    "        'Ã´' : 'o',\n",
    "        'Ã¶' : 'o',\n",
    "        'Ã»' : 'u',\n",
    "        'Ã¼' : 'u',\n",
    "        'æ' : 'ae',\n",
    "        'ç' : 'c',\n",
    "        'è' : 'e',\n",
    "        'é' : 'e',\n",
    "        'í' : 'i',\n",
    "        'ï' : 'i',\n",
    "        'ñ' : 'n',\n",
    "        'ó' : 'o',\n",
    "        'ô' : 'o',\n",
    "        'ö' : 'o',\n",
    "        'û' : 'u',\n",
    "        'ü' : 'u'}"
   ]
  },
  {
   "cell_type": "code",
   "execution_count": 6,
   "metadata": {},
   "outputs": [],
   "source": [
    "for char_ in replacements.keys():\n",
    "    sents.sentence = sents.sentence.str.replace(char_,replacements[char_])\n",
    "    phrs.phrase = phrs.phrase.str.replace(char_,replacements[char_])\n",
    "    \n",
    "sents.sentence = sents.sentence.str.lower()\n",
    "phrs.phrase = phrs.phrase.str.lower()"
   ]
  },
  {
   "cell_type": "code",
   "execution_count": 7,
   "metadata": {},
   "outputs": [],
   "source": [
    "sents = pd.merge(sents, phrs, left_on = 'sentence', right_on = 'phrase', how = 'left')\n"
   ]
  },
  {
   "cell_type": "code",
   "execution_count": 8,
   "metadata": {},
   "outputs": [],
   "source": [
    "## Target Values\n",
    "sentiments = pd.read_csv('sentiment_labels.txt', sep = \"|\")\n",
    "sentiments.head()\n",
    "sents = pd.merge(sents, sentiments, how = 'left', left_on = 'phrase id', right_on = 'phrase ids')\n",
    "\n",
    "## Train/Test Splits\n",
    "splts = pd.read_csv('datasetSplit.txt')\n",
    "sents = pd.merge(sents, splts, on = 'sentence_index', how = 'left')"
   ]
  },
  {
   "cell_type": "code",
   "execution_count": 9,
   "metadata": {},
   "outputs": [],
   "source": [
    "sents = sents[['sentence','sentiment values', 'splitset_label']]"
   ]
  },
  {
   "cell_type": "code",
   "execution_count": 16,
   "metadata": {},
   "outputs": [],
   "source": [
    "sents['label5'] = pd.cut(sents['sentiment values'], bins = 5)\n",
    "sents['label25'] = pd.cut(sents['sentiment values'], bins = 25)"
   ]
  },
  {
   "cell_type": "code",
   "execution_count": 18,
   "metadata": {},
   "outputs": [
    {
     "data": {
      "text/plain": [
       "25"
      ]
     },
     "execution_count": 18,
     "metadata": {},
     "output_type": "execute_result"
    }
   ],
   "source": [
    "sents['label25'].nunique()"
   ]
  },
  {
   "cell_type": "code",
   "execution_count": null,
   "metadata": {},
   "outputs": [],
   "source": []
  }
 ],
 "metadata": {
  "kernelspec": {
   "display_name": "Python 3",
   "language": "python",
   "name": "python3"
  },
  "language_info": {
   "codemirror_mode": {
    "name": "ipython",
    "version": 3
   },
   "file_extension": ".py",
   "mimetype": "text/x-python",
   "name": "python",
   "nbconvert_exporter": "python",
   "pygments_lexer": "ipython3",
   "version": "3.8.5"
  }
 },
 "nbformat": 4,
 "nbformat_minor": 4
}
