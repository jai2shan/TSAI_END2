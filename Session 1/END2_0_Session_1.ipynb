{
  "nbformat": 4,
  "nbformat_minor": 0,
  "metadata": {
    "colab": {
      "name": "END2.0 Session 1.ipynb",
      "provenance": [],
      "include_colab_link": true
    },
    "kernelspec": {
      "name": "python3",
      "display_name": "Python 3"
    },
    "language_info": {
      "name": "python"
    }
  },
  "cells": [
    {
      "cell_type": "markdown",
      "metadata": {
        "id": "view-in-github",
        "colab_type": "text"
      },
      "source": [
        "<a href=\"https://colab.research.google.com/github/jai2shan/TSAI_END2/blob/main/Session%201/END2_0_Session_1.ipynb\" target=\"_parent\"><img src=\"https://colab.research.google.com/assets/colab-badge.svg\" alt=\"Open In Colab\"/></a>"
      ]
    },
    {
      "cell_type": "code",
      "metadata": {
        "colab": {
          "base_uri": "https://localhost:8080/"
        },
        "id": "GC_6PeobwwkH",
        "outputId": "685a02f8-8b6c-441b-c7b7-4c593b65afb9"
      },
      "source": [
        "import torch\n",
        "from torch.autograd import Variable\n",
        "import torch.nn as nn\n",
        "import torch.nn.functional as F\n",
        "import torch.optim as optim\n",
        "import numpy as np\n",
        "import matplotlib.pyplot as plt\n",
        "%matplotlib inline\n",
        "torch.manual_seed(2)"
      ],
      "execution_count": 1,
      "outputs": [
        {
          "output_type": "execute_result",
          "data": {
            "text/plain": [
              "<torch._C.Generator at 0x7f5c1a979510>"
            ]
          },
          "metadata": {
            "tags": []
          },
          "execution_count": 1
        }
      ]
    },
    {
      "cell_type": "code",
      "metadata": {
        "id": "bL64bMTkw2GP"
      },
      "source": [
        "X = torch.Tensor([[0,0], [0,1], [1,0], [1,1]])\n",
        "Y = torch.Tensor([0, 1, 1, 0]).view(-1,1)"
      ],
      "execution_count": 2,
      "outputs": []
    },
    {
      "cell_type": "code",
      "metadata": {
        "id": "aC82kEAIw3Wf"
      },
      "source": [
        "class XOR(nn.Module):\n",
        "    def __init__(self, input_dim = 2, output_dim=1):\n",
        "        super(XOR, self).__init__()\n",
        "        self.lin1 = nn.Linear(input_dim, 5)\n",
        "        self.lin2 = nn.Linear(5, 4)\n",
        "        self.lin3 = nn.Linear(4, output_dim)\n",
        "    \n",
        "    def forward(self, x):\n",
        "        x = self.lin1(x)\n",
        "        x = F.tanh(x)\n",
        "        x = self.lin2(x)\n",
        "        x = F.tanh(x)\n",
        "        x = self.lin3(x)\n",
        "        x = F.tanh(x)\n",
        "        return x"
      ],
      "execution_count": 27,
      "outputs": []
    },
    {
      "cell_type": "code",
      "metadata": {
        "colab": {
          "base_uri": "https://localhost:8080/"
        },
        "id": "8gQIQExYw65K",
        "outputId": "b316db5a-3306-4868-eeca-5d77eee5b94c"
      },
      "source": [
        "model = XOR()\n",
        "print(model)\n",
        "from torchsummary import summary\n",
        "summary(model, (2,2))"
      ],
      "execution_count": 28,
      "outputs": [
        {
          "output_type": "stream",
          "text": [
            "XOR(\n",
            "  (lin1): Linear(in_features=2, out_features=5, bias=True)\n",
            "  (lin2): Linear(in_features=5, out_features=4, bias=True)\n",
            "  (lin3): Linear(in_features=4, out_features=1, bias=True)\n",
            ")\n",
            "----------------------------------------------------------------\n",
            "        Layer (type)               Output Shape         Param #\n",
            "================================================================\n",
            "            Linear-1                 [-1, 2, 5]              15\n",
            "            Linear-2                 [-1, 2, 4]              24\n",
            "            Linear-3                 [-1, 2, 1]               5\n",
            "================================================================\n",
            "Total params: 44\n",
            "Trainable params: 44\n",
            "Non-trainable params: 0\n",
            "----------------------------------------------------------------\n",
            "Input size (MB): 0.00\n",
            "Forward/backward pass size (MB): 0.00\n",
            "Params size (MB): 0.00\n",
            "Estimated Total Size (MB): 0.00\n",
            "----------------------------------------------------------------\n"
          ],
          "name": "stdout"
        },
        {
          "output_type": "stream",
          "text": [
            "/usr/local/lib/python3.7/dist-packages/torch/nn/functional.py:1698: UserWarning: nn.functional.tanh is deprecated. Use torch.tanh instead.\n",
            "  warnings.warn(\"nn.functional.tanh is deprecated. Use torch.tanh instead.\")\n"
          ],
          "name": "stderr"
        }
      ]
    },
    {
      "cell_type": "code",
      "metadata": {
        "id": "yeotEq19x6XF"
      },
      "source": [
        "def weights_init(model):\n",
        "    for m in model.modules():\n",
        "        if isinstance(m, nn.Linear):\n",
        "            # initialize the weight tensor, here we use a normal distribution\n",
        "            m.weight.data.normal_(0, 1)\n",
        "\n",
        "weights_init(model)"
      ],
      "execution_count": 29,
      "outputs": []
    },
    {
      "cell_type": "code",
      "metadata": {
        "id": "WrD_sNzLx78e"
      },
      "source": [
        "loss_func = nn.L1Loss()"
      ],
      "execution_count": 30,
      "outputs": []
    },
    {
      "cell_type": "code",
      "metadata": {
        "id": "-zvbrMd2x_lA"
      },
      "source": [
        "optimizer = optim.SGD(model.parameters(), lr=0.02, momentum=0.9)\n"
      ],
      "execution_count": 31,
      "outputs": []
    },
    {
      "cell_type": "code",
      "metadata": {
        "colab": {
          "base_uri": "https://localhost:8080/"
        },
        "id": "q7tWa3D7yA5X",
        "outputId": "ecdfb126-ee38-4f26-eecb-26ba7eb433c2"
      },
      "source": [
        "epochs = 2001\n",
        "steps = X.size(0)\n",
        "for i in range(epochs):\n",
        "    for j in range(steps):\n",
        "        data_point = np.random.randint(X.size(0))\n",
        "        x_var = Variable(X[data_point], requires_grad=False)\n",
        "        y_var = Variable(Y[data_point], requires_grad=False)\n",
        "        \n",
        "        optimizer.zero_grad()\n",
        "        y_hat = model(x_var)\n",
        "        loss = loss_func.forward(y_hat, y_var)\n",
        "        loss.backward()\n",
        "        optimizer.step()\n",
        "        \n",
        "    if i % 50 == 0:\n",
        "        print( \"Epoch: {0}, Loss: {1}, \".format(i, loss.data.numpy()))"
      ],
      "execution_count": 32,
      "outputs": [
        {
          "output_type": "stream",
          "text": [
            "/usr/local/lib/python3.7/dist-packages/torch/nn/functional.py:1698: UserWarning: nn.functional.tanh is deprecated. Use torch.tanh instead.\n",
            "  warnings.warn(\"nn.functional.tanh is deprecated. Use torch.tanh instead.\")\n"
          ],
          "name": "stderr"
        },
        {
          "output_type": "stream",
          "text": [
            "Epoch: 0, Loss: 0.8027093410491943, \n",
            "Epoch: 50, Loss: 0.9973214864730835, \n",
            "Epoch: 100, Loss: 0.7560175657272339, \n",
            "Epoch: 150, Loss: 0.9961675405502319, \n",
            "Epoch: 200, Loss: 0.05436054244637489, \n",
            "Epoch: 250, Loss: 0.9970296621322632, \n",
            "Epoch: 300, Loss: 0.0027721524238586426, \n",
            "Epoch: 350, Loss: 0.0062392354011535645, \n",
            "Epoch: 400, Loss: 0.08565479516983032, \n",
            "Epoch: 450, Loss: 0.999081015586853, \n",
            "Epoch: 500, Loss: 0.004450470674782991, \n",
            "Epoch: 550, Loss: 0.19294503331184387, \n",
            "Epoch: 600, Loss: 0.0016527175903320312, \n",
            "Epoch: 650, Loss: 0.0009908676147460938, \n",
            "Epoch: 700, Loss: 0.001109004020690918, \n",
            "Epoch: 750, Loss: 0.9995304346084595, \n",
            "Epoch: 800, Loss: 0.0006926655769348145, \n",
            "Epoch: 850, Loss: 0.0008095502853393555, \n",
            "Epoch: 900, Loss: 0.9992881417274475, \n",
            "Epoch: 950, Loss: 0.0007849335670471191, \n",
            "Epoch: 1000, Loss: 0.0008674263954162598, \n",
            "Epoch: 1050, Loss: 0.9995726346969604, \n",
            "Epoch: 1100, Loss: 0.2205275446176529, \n",
            "Epoch: 1150, Loss: 0.00036019086837768555, \n",
            "Epoch: 1200, Loss: 0.0007570981979370117, \n",
            "Epoch: 1250, Loss: 0.0006734728813171387, \n",
            "Epoch: 1300, Loss: 0.999254047870636, \n",
            "Epoch: 1350, Loss: 0.0005562901496887207, \n",
            "Epoch: 1400, Loss: 0.0006414055824279785, \n",
            "Epoch: 1450, Loss: 0.0005900859832763672, \n",
            "Epoch: 1500, Loss: 0.9995967745780945, \n",
            "Epoch: 1550, Loss: 0.0006401538848876953, \n",
            "Epoch: 1600, Loss: 0.0011842846870422363, \n",
            "Epoch: 1650, Loss: 0.9994989037513733, \n",
            "Epoch: 1700, Loss: 0.0005815029144287109, \n",
            "Epoch: 1750, Loss: 0.00040900707244873047, \n",
            "Epoch: 1800, Loss: 0.00047916173934936523, \n",
            "Epoch: 1850, Loss: 0.1925664246082306, \n",
            "Epoch: 1900, Loss: 0.0005980134010314941, \n",
            "Epoch: 1950, Loss: 0.42862412333488464, \n",
            "Epoch: 2000, Loss: 0.14456363022327423, \n"
          ],
          "name": "stdout"
        }
      ]
    },
    {
      "cell_type": "code",
      "metadata": {
        "id": "QV0dIdveyCRi"
      },
      "source": [
        ""
      ],
      "execution_count": null,
      "outputs": []
    }
  ]
}