{
  "nbformat": 4,
  "nbformat_minor": 0,
  "metadata": {
    "colab": {
      "name": "END2.0 Session 1.ipynb",
      "provenance": [],
      "include_colab_link": true
    },
    "kernelspec": {
      "name": "python3",
      "display_name": "Python 3"
    },
    "language_info": {
      "name": "python"
    }
  },
  "cells": [
    {
      "cell_type": "markdown",
      "metadata": {
        "id": "view-in-github",
        "colab_type": "text"
      },
      "source": [
        "<a href=\"https://colab.research.google.com/github/jai2shan/TSAI_END2/blob/main/Session%201/END2_0_Session_1.ipynb\" target=\"_parent\"><img src=\"https://colab.research.google.com/assets/colab-badge.svg\" alt=\"Open In Colab\"/></a>"
      ]
    },
    {
      "cell_type": "code",
      "metadata": {
        "colab": {
          "base_uri": "https://localhost:8080/"
        },
        "id": "GC_6PeobwwkH",
        "outputId": "d0f242d8-b5c6-4a8a-c138-88b2042f369d"
      },
      "source": [
        "import torch\n",
        "from torch.autograd import Variable\n",
        "import torch.nn as nn\n",
        "import torch.nn.functional as F\n",
        "import torch.optim as optim\n",
        "import numpy as np\n",
        "import matplotlib.pyplot as plt\n",
        "%matplotlib inline\n",
        "torch.manual_seed(2)"
      ],
      "execution_count": 2,
      "outputs": [
        {
          "output_type": "execute_result",
          "data": {
            "text/plain": [
              "<torch._C.Generator at 0x7f032b89b890>"
            ]
          },
          "metadata": {
            "tags": []
          },
          "execution_count": 2
        }
      ]
    },
    {
      "cell_type": "code",
      "metadata": {
        "id": "bL64bMTkw2GP"
      },
      "source": [
        "X = torch.Tensor([[0,0], [0,1], [1,0], [1,1]])\n",
        "Y = torch.Tensor([0, 1, 1, 0]).view(-1,1)"
      ],
      "execution_count": 3,
      "outputs": []
    },
    {
      "cell_type": "code",
      "metadata": {
        "id": "aC82kEAIw3Wf"
      },
      "source": [
        "class XOR(nn.Module):\n",
        "    def __init__(self, input_dim = 2, output_dim=1):\n",
        "        super(XOR, self).__init__()\n",
        "        self.lin1 = nn.Linear(input_dim, 5)\n",
        "        self.lin2 = nn.Linear(5, 4)\n",
        "        self.lin3 = nn.Linear(4, output_dim)\n",
        "    \n",
        "    def forward(self, x):\n",
        "        x = self.lin1(x)\n",
        "        x = torch.tanh(x)\n",
        "        x = self.lin2(x)\n",
        "        x = torch.tanh(x)\n",
        "        x = self.lin3(x)\n",
        "        x = torch.tanh(x)\n",
        "        return x"
      ],
      "execution_count": 4,
      "outputs": []
    },
    {
      "cell_type": "code",
      "metadata": {
        "colab": {
          "base_uri": "https://localhost:8080/"
        },
        "id": "8gQIQExYw65K",
        "outputId": "5c71962b-1ae4-4b8b-91ab-3217884bbc6a"
      },
      "source": [
        "model = XOR()\n",
        "print(model)\n",
        "from torchsummary import summary\n",
        "summary(model, (2,2))"
      ],
      "execution_count": 5,
      "outputs": [
        {
          "output_type": "stream",
          "text": [
            "XOR(\n",
            "  (lin1): Linear(in_features=2, out_features=5, bias=True)\n",
            "  (lin2): Linear(in_features=5, out_features=4, bias=True)\n",
            "  (lin3): Linear(in_features=4, out_features=1, bias=True)\n",
            ")\n",
            "----------------------------------------------------------------\n",
            "        Layer (type)               Output Shape         Param #\n",
            "================================================================\n",
            "            Linear-1                 [-1, 2, 5]              15\n",
            "            Linear-2                 [-1, 2, 4]              24\n",
            "            Linear-3                 [-1, 2, 1]               5\n",
            "================================================================\n",
            "Total params: 44\n",
            "Trainable params: 44\n",
            "Non-trainable params: 0\n",
            "----------------------------------------------------------------\n",
            "Input size (MB): 0.00\n",
            "Forward/backward pass size (MB): 0.00\n",
            "Params size (MB): 0.00\n",
            "Estimated Total Size (MB): 0.00\n",
            "----------------------------------------------------------------\n"
          ],
          "name": "stdout"
        }
      ]
    },
    {
      "cell_type": "code",
      "metadata": {
        "id": "yeotEq19x6XF"
      },
      "source": [
        "def weights_init(model):\n",
        "    for m in model.modules():\n",
        "        if isinstance(m, nn.Linear):\n",
        "            # initialize the weight tensor, here we use a normal distribution\n",
        "            m.weight.data.normal_(0, 1)\n",
        "\n",
        "weights_init(model)"
      ],
      "execution_count": 6,
      "outputs": []
    },
    {
      "cell_type": "code",
      "metadata": {
        "id": "WrD_sNzLx78e"
      },
      "source": [
        "loss_func = nn.L1Loss()"
      ],
      "execution_count": 7,
      "outputs": []
    },
    {
      "cell_type": "code",
      "metadata": {
        "id": "-zvbrMd2x_lA"
      },
      "source": [
        "optimizer = optim.SGD(model.parameters(), lr=0.02, momentum=0.9)\n"
      ],
      "execution_count": 8,
      "outputs": []
    },
    {
      "cell_type": "code",
      "metadata": {
        "colab": {
          "base_uri": "https://localhost:8080/"
        },
        "id": "q7tWa3D7yA5X",
        "outputId": "c1b2aafc-aa34-4b84-ff7b-bee9a1e0b3cf"
      },
      "source": [
        "epochs = 2001\n",
        "steps = X.size(0)\n",
        "for i in range(epochs):\n",
        "    for j in range(steps):\n",
        "        data_point = np.random.randint(X.size(0))\n",
        "        x_var = Variable(X[data_point], requires_grad=False)\n",
        "        y_var = Variable(Y[data_point], requires_grad=False)\n",
        "        \n",
        "        optimizer.zero_grad()\n",
        "        y_hat = model(x_var)\n",
        "        loss = loss_func.forward(y_hat, y_var)\n",
        "        loss.backward()\n",
        "        optimizer.step()\n",
        "        \n",
        "    if i % 50 == 0:\n",
        "        print( \"Epoch: {0}, Loss: {1}, \".format(i, loss.data.numpy()))"
      ],
      "execution_count": 9,
      "outputs": [
        {
          "output_type": "stream",
          "text": [
            "Epoch: 0, Loss: 0.8617652058601379, \n",
            "Epoch: 50, Loss: 0.9982088804244995, \n",
            "Epoch: 100, Loss: 0.0014532208442687988, \n",
            "Epoch: 150, Loss: 0.9972865581512451, \n",
            "Epoch: 200, Loss: 0.9955217838287354, \n",
            "Epoch: 250, Loss: 0.9905545711517334, \n",
            "Epoch: 300, Loss: 0.00683361291885376, \n",
            "Epoch: 350, Loss: 0.0036351680755615234, \n",
            "Epoch: 400, Loss: 0.001347959041595459, \n",
            "Epoch: 450, Loss: 0.0020705461502075195, \n",
            "Epoch: 500, Loss: 0.16735532879829407, \n",
            "Epoch: 550, Loss: 0.999295711517334, \n",
            "Epoch: 600, Loss: 0.0010553598403930664, \n",
            "Epoch: 650, Loss: 0.044232990592718124, \n",
            "Epoch: 700, Loss: 0.9988467693328857, \n",
            "Epoch: 750, Loss: 0.0008546710014343262, \n",
            "Epoch: 800, Loss: 0.0006235241889953613, \n",
            "Epoch: 850, Loss: 0.0006571412086486816, \n",
            "Epoch: 900, Loss: 0.9994680881500244, \n",
            "Epoch: 950, Loss: 0.000756382942199707, \n",
            "Epoch: 1000, Loss: 0.03461324796080589, \n",
            "Epoch: 1050, Loss: 0.00032126903533935547, \n",
            "Epoch: 1100, Loss: 0.00038254261016845703, \n",
            "Epoch: 1150, Loss: 0.0006821751594543457, \n",
            "Epoch: 1200, Loss: 0.999474048614502, \n",
            "Epoch: 1250, Loss: 0.09732585400342941, \n",
            "Epoch: 1300, Loss: 0.2534010708332062, \n",
            "Epoch: 1350, Loss: 0.9995689988136292, \n",
            "Epoch: 1400, Loss: 0.0004705190658569336, \n",
            "Epoch: 1450, Loss: 0.03743317350745201, \n",
            "Epoch: 1500, Loss: 0.9996450543403625, \n",
            "Epoch: 1550, Loss: 0.23986709117889404, \n",
            "Epoch: 1600, Loss: 0.32152432203292847, \n",
            "Epoch: 1650, Loss: 0.999596118927002, \n",
            "Epoch: 1700, Loss: 0.000586092472076416, \n",
            "Epoch: 1750, Loss: 0.0007898211479187012, \n",
            "Epoch: 1800, Loss: 0.0005301237106323242, \n",
            "Epoch: 1850, Loss: 0.0006506443023681641, \n",
            "Epoch: 1900, Loss: 0.14082427322864532, \n",
            "Epoch: 1950, Loss: 0.0005712509155273438, \n",
            "Epoch: 2000, Loss: 0.0006978511810302734, \n"
          ],
          "name": "stdout"
        }
      ]
    },
    {
      "cell_type": "code",
      "metadata": {
        "id": "QV0dIdveyCRi"
      },
      "source": [
        ""
      ],
      "execution_count": null,
      "outputs": []
    }
  ]
}